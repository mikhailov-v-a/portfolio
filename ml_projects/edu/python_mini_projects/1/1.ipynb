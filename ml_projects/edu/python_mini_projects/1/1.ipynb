{
 "cells": [
  {
   "attachments": {},
   "cell_type": "markdown",
   "metadata": {},
   "source": [
    "# Минипроект\n",
    "\n",
    "В этом минипроекте вам предстоит проанализировать данные из Google Play Store. Чуть ниже вы можете ознакомиться с описанием данных. Мы разбили задачи на степы, чтобы было проще их проверить. В некоторых из задач также можно встретить небольшие подсказки. Успехов :)\n",
    "\n",
    "**Описание данных**\n",
    "\n",
    "- App — название приложения\n",
    "- Category — категория, к которой относится приложение\n",
    "- Rating — рейтинг пользователей\n",
    "- Reviews — количество отзывов пользователей о приложении\n",
    "- Size — размер приложения\n",
    "- Installs — количество загрузок/установок приложения пользователями\n",
    "- Type — платное или бесплатное приложение\n",
    "- Price — цена приложения\n",
    "- Content Rating — возрастная группа, на которую ориентировано приложение\n",
    "- Genres — принадлежность приложения к нескольким жанрам\n",
    "- Last Updated — дата последнего обновления приложения в Play Store\n",
    "- Current Ver — текущая версия приложения в Play Store\n",
    "- Android Ver — минимальная требуемая версия Android\n"
   ]
  },
  {
   "attachments": {},
   "cell_type": "markdown",
   "metadata": {},
   "source": [
    "### Задание 1"
   ]
  },
  {
   "attachments": {},
   "cell_type": "markdown",
   "metadata": {},
   "source": [
    "Сохраните в переменные data_head и data_tail первые и последние 3 строки из датафрейма соответственно"
   ]
  },
  {
   "cell_type": "code",
   "execution_count": 1,
   "metadata": {},
   "outputs": [],
   "source": [
    "import pandas as pd"
   ]
  },
  {
   "cell_type": "code",
   "execution_count": 2,
   "metadata": {},
   "outputs": [],
   "source": [
    "playstore = pd.read_csv('playstore.csv')\n",
    "\n",
    "data_head = playstore.head(3)\n",
    "data_tail = playstore.tail(3)"
   ]
  },
  {
   "attachments": {},
   "cell_type": "markdown",
   "metadata": {},
   "source": [
    "### Задание 2"
   ]
  },
  {
   "attachments": {},
   "cell_type": "markdown",
   "metadata": {},
   "source": [
    "Сохраните в переменные n_col и n_row количество столбцов и строк в датафрейме соответственно."
   ]
  },
  {
   "cell_type": "code",
   "execution_count": 3,
   "metadata": {},
   "outputs": [
    {
     "name": "stdout",
     "output_type": "stream",
     "text": [
      "Строк - 10840, столбцов - 14\n"
     ]
    }
   ],
   "source": [
    "n_row, n_col = playstore.shape[0], playstore.shape[1]\n",
    "print(f'Строк - {n_row}, столбцов - {n_col}')"
   ]
  },
  {
   "attachments": {},
   "cell_type": "markdown",
   "metadata": {},
   "source": [
    "### Задание 3"
   ]
  },
  {
   "attachments": {},
   "cell_type": "markdown",
   "metadata": {},
   "source": [
    "Давайте теперь посмотрим, какое количество уникальных приложений есть в наших данных (колонка App).\n",
    "\n",
    "В качестве ответа введите полученное число."
   ]
  },
  {
   "cell_type": "code",
   "execution_count": 4,
   "metadata": {},
   "outputs": [
    {
     "data": {
      "text/plain": [
       "9659"
      ]
     },
     "execution_count": 4,
     "metadata": {},
     "output_type": "execute_result"
    }
   ],
   "source": [
    "playstore['App'].nunique()"
   ]
  },
  {
   "attachments": {},
   "cell_type": "markdown",
   "metadata": {},
   "source": [
    "### Задание 4"
   ]
  },
  {
   "attachments": {},
   "cell_type": "markdown",
   "metadata": {},
   "source": [
    "Давайте посчитаем число пропущенных значений в колонке с рейтингом приложений. \n",
    "\n",
    "Сохраните в переменную rating_missing количество пропущенных значений в колонке Rating. "
   ]
  },
  {
   "cell_type": "code",
   "execution_count": 5,
   "metadata": {},
   "outputs": [
    {
     "data": {
      "text/plain": [
       "1474"
      ]
     },
     "execution_count": 5,
     "metadata": {},
     "output_type": "execute_result"
    }
   ],
   "source": [
    "rating_missing = playstore['Rating'].isnull().value_counts()[True]\n",
    "rating_missing"
   ]
  },
  {
   "attachments": {},
   "cell_type": "markdown",
   "metadata": {},
   "source": [
    "### Задание 5"
   ]
  },
  {
   "attachments": {},
   "cell_type": "markdown",
   "metadata": {},
   "source": [
    "Научимся объединять датафреймы и познакомимся с функцией concat.\n",
    "\n",
    "Допустим, мы хотим собрать датафрейм, который будет включать в себя: первые три строки исходного датафрейма, строки 6-8 (включительно), строки 16-19 (включительно) и колонки: App, Size, Genres, Current Ver в соответствующем порядке.\n",
    "\n",
    "*По сути, это будет выглядеть как объединение трех, состоящих из нескольких строк, датафреймов, являющимися срезами из исходных данных.*\n",
    "\n",
    "*В качестве ответа загрузите полученный датафрейм в формате csv. При сохранении финального датафрейма, колонка с индексами должна остаться.*\n",
    "\n",
    "*Помните про индексацию с нуля и правила включения/невключения границ при слайсинге*"
   ]
  },
  {
   "cell_type": "code",
   "execution_count": 6,
   "metadata": {},
   "outputs": [
    {
     "data": {
      "text/html": [
       "<div>\n",
       "<style scoped>\n",
       "    .dataframe tbody tr th:only-of-type {\n",
       "        vertical-align: middle;\n",
       "    }\n",
       "\n",
       "    .dataframe tbody tr th {\n",
       "        vertical-align: top;\n",
       "    }\n",
       "\n",
       "    .dataframe thead th {\n",
       "        text-align: right;\n",
       "    }\n",
       "</style>\n",
       "<table border=\"1\" class=\"dataframe\">\n",
       "  <thead>\n",
       "    <tr style=\"text-align: right;\">\n",
       "      <th></th>\n",
       "      <th>App</th>\n",
       "      <th>Size</th>\n",
       "      <th>Genres</th>\n",
       "      <th>Current Ver</th>\n",
       "    </tr>\n",
       "  </thead>\n",
       "  <tbody>\n",
       "    <tr>\n",
       "      <th>0</th>\n",
       "      <td>Photo Editor &amp; Candy Camera &amp; Grid &amp; ScrapBook</td>\n",
       "      <td>19M</td>\n",
       "      <td>Art &amp; Design</td>\n",
       "      <td>1.0.0</td>\n",
       "    </tr>\n",
       "    <tr>\n",
       "      <th>1</th>\n",
       "      <td>Coloring book moana</td>\n",
       "      <td>14M</td>\n",
       "      <td>Art &amp; Design;Pretend Play</td>\n",
       "      <td>2.0.0</td>\n",
       "    </tr>\n",
       "    <tr>\n",
       "      <th>2</th>\n",
       "      <td>U Launcher Lite – FREE Live Cool Themes, Hide ...</td>\n",
       "      <td>8.7M</td>\n",
       "      <td>Art &amp; Design</td>\n",
       "      <td>1.2.4</td>\n",
       "    </tr>\n",
       "    <tr>\n",
       "      <th>5</th>\n",
       "      <td>Paper flowers instructions</td>\n",
       "      <td>5.6M</td>\n",
       "      <td>Art &amp; Design</td>\n",
       "      <td>1.0</td>\n",
       "    </tr>\n",
       "    <tr>\n",
       "      <th>6</th>\n",
       "      <td>Smoke Effect Photo Maker - Smoke Editor</td>\n",
       "      <td>19M</td>\n",
       "      <td>Art &amp; Design</td>\n",
       "      <td>1.1</td>\n",
       "    </tr>\n",
       "    <tr>\n",
       "      <th>7</th>\n",
       "      <td>Infinite Painter</td>\n",
       "      <td>29M</td>\n",
       "      <td>Art &amp; Design</td>\n",
       "      <td>6.1.61.1</td>\n",
       "    </tr>\n",
       "    <tr>\n",
       "      <th>15</th>\n",
       "      <td>Learn To Draw Kawaii Characters</td>\n",
       "      <td>2.7M</td>\n",
       "      <td>Art &amp; Design</td>\n",
       "      <td>NaN</td>\n",
       "    </tr>\n",
       "    <tr>\n",
       "      <th>16</th>\n",
       "      <td>Photo Designer - Write your name with shapes</td>\n",
       "      <td>5.5M</td>\n",
       "      <td>Art &amp; Design</td>\n",
       "      <td>3.1</td>\n",
       "    </tr>\n",
       "    <tr>\n",
       "      <th>17</th>\n",
       "      <td>350 Diy Room Decor Ideas</td>\n",
       "      <td>17M</td>\n",
       "      <td>Art &amp; Design</td>\n",
       "      <td>1.0</td>\n",
       "    </tr>\n",
       "    <tr>\n",
       "      <th>18</th>\n",
       "      <td>FlipaClip - Cartoon animation</td>\n",
       "      <td>39M</td>\n",
       "      <td>Art &amp; Design</td>\n",
       "      <td>2.2.5</td>\n",
       "    </tr>\n",
       "  </tbody>\n",
       "</table>\n",
       "</div>"
      ],
      "text/plain": [
       "                                                  App  Size  \\\n",
       "0      Photo Editor & Candy Camera & Grid & ScrapBook   19M   \n",
       "1                                 Coloring book moana   14M   \n",
       "2   U Launcher Lite – FREE Live Cool Themes, Hide ...  8.7M   \n",
       "5                          Paper flowers instructions  5.6M   \n",
       "6             Smoke Effect Photo Maker - Smoke Editor   19M   \n",
       "7                                    Infinite Painter   29M   \n",
       "15                    Learn To Draw Kawaii Characters  2.7M   \n",
       "16       Photo Designer - Write your name with shapes  5.5M   \n",
       "17                           350 Diy Room Decor Ideas   17M   \n",
       "18                      FlipaClip - Cartoon animation   39M   \n",
       "\n",
       "                       Genres Current Ver  \n",
       "0                Art & Design       1.0.0  \n",
       "1   Art & Design;Pretend Play       2.0.0  \n",
       "2                Art & Design       1.2.4  \n",
       "5                Art & Design         1.0  \n",
       "6                Art & Design         1.1  \n",
       "7                Art & Design    6.1.61.1  \n",
       "15               Art & Design         NaN  \n",
       "16               Art & Design         3.1  \n",
       "17               Art & Design         1.0  \n",
       "18               Art & Design       2.2.5  "
      ]
     },
     "execution_count": 6,
     "metadata": {},
     "output_type": "execute_result"
    }
   ],
   "source": [
    "df_1 = playstore[0:3][['App', 'Size', 'Genres', 'Current Ver']]\n",
    "df_2 = playstore[5:8][['App', 'Size', 'Genres', 'Current Ver']]\n",
    "df_3 = playstore[15:19][['App', 'Size', 'Genres', 'Current Ver']]\n",
    "\n",
    "concat_df = pd.concat([df_1, df_2, df_3])\n",
    "concat_df"
   ]
  },
  {
   "cell_type": "code",
   "execution_count": 7,
   "metadata": {},
   "outputs": [],
   "source": [
    "concat_df.to_csv('concat.csv', index=True)"
   ]
  },
  {
   "attachments": {},
   "cell_type": "markdown",
   "metadata": {},
   "source": [
    "### Задание 6"
   ]
  },
  {
   "attachments": {},
   "cell_type": "markdown",
   "metadata": {},
   "source": [
    "Для дальнейшего анализа нам необходимо убрать дубликаты приложений (колонка App) и сбросить индекс. \n",
    "\n",
    "Сохраните полученный результат в виде датафрейма в переменную unique_playstore"
   ]
  },
  {
   "cell_type": "code",
   "execution_count": 8,
   "metadata": {},
   "outputs": [
    {
     "data": {
      "text/html": [
       "<div>\n",
       "<style scoped>\n",
       "    .dataframe tbody tr th:only-of-type {\n",
       "        vertical-align: middle;\n",
       "    }\n",
       "\n",
       "    .dataframe tbody tr th {\n",
       "        vertical-align: top;\n",
       "    }\n",
       "\n",
       "    .dataframe thead th {\n",
       "        text-align: right;\n",
       "    }\n",
       "</style>\n",
       "<table border=\"1\" class=\"dataframe\">\n",
       "  <thead>\n",
       "    <tr style=\"text-align: right;\">\n",
       "      <th></th>\n",
       "      <th>Unnamed: 0</th>\n",
       "      <th>App</th>\n",
       "      <th>Category</th>\n",
       "      <th>Rating</th>\n",
       "      <th>Reviews</th>\n",
       "      <th>Size</th>\n",
       "      <th>Installs</th>\n",
       "      <th>Type</th>\n",
       "      <th>Price</th>\n",
       "      <th>Content Rating</th>\n",
       "      <th>Genres</th>\n",
       "      <th>Last Updated</th>\n",
       "      <th>Current Ver</th>\n",
       "      <th>Android Ver</th>\n",
       "    </tr>\n",
       "  </thead>\n",
       "  <tbody>\n",
       "    <tr>\n",
       "      <th>0</th>\n",
       "      <td>0</td>\n",
       "      <td>Photo Editor &amp; Candy Camera &amp; Grid &amp; ScrapBook</td>\n",
       "      <td>ART_AND_DESIGN</td>\n",
       "      <td>4.1</td>\n",
       "      <td>159</td>\n",
       "      <td>19M</td>\n",
       "      <td>10,000+</td>\n",
       "      <td>Free</td>\n",
       "      <td>0</td>\n",
       "      <td>Everyone</td>\n",
       "      <td>Art &amp; Design</td>\n",
       "      <td>January 7, 2018</td>\n",
       "      <td>1.0.0</td>\n",
       "      <td>4.0.3 and up</td>\n",
       "    </tr>\n",
       "    <tr>\n",
       "      <th>1</th>\n",
       "      <td>1</td>\n",
       "      <td>Coloring book moana</td>\n",
       "      <td>ART_AND_DESIGN</td>\n",
       "      <td>3.9</td>\n",
       "      <td>967</td>\n",
       "      <td>14M</td>\n",
       "      <td>500,000+</td>\n",
       "      <td>Free</td>\n",
       "      <td>0</td>\n",
       "      <td>Everyone</td>\n",
       "      <td>Art &amp; Design;Pretend Play</td>\n",
       "      <td>January 15, 2018</td>\n",
       "      <td>2.0.0</td>\n",
       "      <td>4.0.3 and up</td>\n",
       "    </tr>\n",
       "    <tr>\n",
       "      <th>2</th>\n",
       "      <td>2</td>\n",
       "      <td>U Launcher Lite – FREE Live Cool Themes, Hide ...</td>\n",
       "      <td>ART_AND_DESIGN</td>\n",
       "      <td>4.7</td>\n",
       "      <td>87510</td>\n",
       "      <td>8.7M</td>\n",
       "      <td>5,000,000+</td>\n",
       "      <td>Free</td>\n",
       "      <td>0</td>\n",
       "      <td>Everyone</td>\n",
       "      <td>Art &amp; Design</td>\n",
       "      <td>August 1, 2018</td>\n",
       "      <td>1.2.4</td>\n",
       "      <td>4.0.3 and up</td>\n",
       "    </tr>\n",
       "  </tbody>\n",
       "</table>\n",
       "</div>"
      ],
      "text/plain": [
       "   Unnamed: 0                                                App  \\\n",
       "0           0     Photo Editor & Candy Camera & Grid & ScrapBook   \n",
       "1           1                                Coloring book moana   \n",
       "2           2  U Launcher Lite – FREE Live Cool Themes, Hide ...   \n",
       "\n",
       "         Category  Rating  Reviews  Size    Installs  Type Price  \\\n",
       "0  ART_AND_DESIGN     4.1      159   19M     10,000+  Free     0   \n",
       "1  ART_AND_DESIGN     3.9      967   14M    500,000+  Free     0   \n",
       "2  ART_AND_DESIGN     4.7    87510  8.7M  5,000,000+  Free     0   \n",
       "\n",
       "  Content Rating                     Genres      Last Updated Current Ver  \\\n",
       "0       Everyone               Art & Design   January 7, 2018       1.0.0   \n",
       "1       Everyone  Art & Design;Pretend Play  January 15, 2018       2.0.0   \n",
       "2       Everyone               Art & Design    August 1, 2018       1.2.4   \n",
       "\n",
       "    Android Ver  \n",
       "0  4.0.3 and up  \n",
       "1  4.0.3 and up  \n",
       "2  4.0.3 and up  "
      ]
     },
     "execution_count": 8,
     "metadata": {},
     "output_type": "execute_result"
    }
   ],
   "source": [
    "unique_playstore = playstore.drop_duplicates(subset=['App']).reset_index(drop=True)\n",
    "unique_playstore.head(3)"
   ]
  },
  {
   "attachments": {},
   "cell_type": "markdown",
   "metadata": {},
   "source": [
    "### Задание 7"
   ]
  },
  {
   "attachments": {},
   "cell_type": "markdown",
   "metadata": {},
   "source": [
    "В этом задании названия колонок необходимо привести к стандартному виду — все буквы должны быть нижнего регистра, а пробелы должны быть заменены на нижние подчеркивания. \n",
    "\n",
    "Методы, которые могут пригодиться:\n",
    "- rename\n",
    "- str.lower\n",
    "- str.replace\n",
    "- columns"
   ]
  },
  {
   "cell_type": "code",
   "execution_count": 9,
   "metadata": {},
   "outputs": [
    {
     "data": {
      "text/html": [
       "<div>\n",
       "<style scoped>\n",
       "    .dataframe tbody tr th:only-of-type {\n",
       "        vertical-align: middle;\n",
       "    }\n",
       "\n",
       "    .dataframe tbody tr th {\n",
       "        vertical-align: top;\n",
       "    }\n",
       "\n",
       "    .dataframe thead th {\n",
       "        text-align: right;\n",
       "    }\n",
       "</style>\n",
       "<table border=\"1\" class=\"dataframe\">\n",
       "  <thead>\n",
       "    <tr style=\"text-align: right;\">\n",
       "      <th></th>\n",
       "      <th>unnamed:_0</th>\n",
       "      <th>app</th>\n",
       "      <th>category</th>\n",
       "      <th>rating</th>\n",
       "      <th>reviews</th>\n",
       "      <th>size</th>\n",
       "      <th>installs</th>\n",
       "      <th>type</th>\n",
       "      <th>price</th>\n",
       "      <th>content_rating</th>\n",
       "      <th>genres</th>\n",
       "      <th>last_updated</th>\n",
       "      <th>current_ver</th>\n",
       "      <th>android_ver</th>\n",
       "    </tr>\n",
       "  </thead>\n",
       "  <tbody>\n",
       "    <tr>\n",
       "      <th>0</th>\n",
       "      <td>0</td>\n",
       "      <td>Photo Editor &amp; Candy Camera &amp; Grid &amp; ScrapBook</td>\n",
       "      <td>ART_AND_DESIGN</td>\n",
       "      <td>4.1</td>\n",
       "      <td>159</td>\n",
       "      <td>19M</td>\n",
       "      <td>10,000+</td>\n",
       "      <td>Free</td>\n",
       "      <td>0</td>\n",
       "      <td>Everyone</td>\n",
       "      <td>Art &amp; Design</td>\n",
       "      <td>January 7, 2018</td>\n",
       "      <td>1.0.0</td>\n",
       "      <td>4.0.3 and up</td>\n",
       "    </tr>\n",
       "    <tr>\n",
       "      <th>1</th>\n",
       "      <td>1</td>\n",
       "      <td>Coloring book moana</td>\n",
       "      <td>ART_AND_DESIGN</td>\n",
       "      <td>3.9</td>\n",
       "      <td>967</td>\n",
       "      <td>14M</td>\n",
       "      <td>500,000+</td>\n",
       "      <td>Free</td>\n",
       "      <td>0</td>\n",
       "      <td>Everyone</td>\n",
       "      <td>Art &amp; Design;Pretend Play</td>\n",
       "      <td>January 15, 2018</td>\n",
       "      <td>2.0.0</td>\n",
       "      <td>4.0.3 and up</td>\n",
       "    </tr>\n",
       "    <tr>\n",
       "      <th>2</th>\n",
       "      <td>2</td>\n",
       "      <td>U Launcher Lite – FREE Live Cool Themes, Hide ...</td>\n",
       "      <td>ART_AND_DESIGN</td>\n",
       "      <td>4.7</td>\n",
       "      <td>87510</td>\n",
       "      <td>8.7M</td>\n",
       "      <td>5,000,000+</td>\n",
       "      <td>Free</td>\n",
       "      <td>0</td>\n",
       "      <td>Everyone</td>\n",
       "      <td>Art &amp; Design</td>\n",
       "      <td>August 1, 2018</td>\n",
       "      <td>1.2.4</td>\n",
       "      <td>4.0.3 and up</td>\n",
       "    </tr>\n",
       "  </tbody>\n",
       "</table>\n",
       "</div>"
      ],
      "text/plain": [
       "   unnamed:_0                                                app  \\\n",
       "0           0     Photo Editor & Candy Camera & Grid & ScrapBook   \n",
       "1           1                                Coloring book moana   \n",
       "2           2  U Launcher Lite – FREE Live Cool Themes, Hide ...   \n",
       "\n",
       "         category  rating  reviews  size    installs  type price  \\\n",
       "0  ART_AND_DESIGN     4.1      159   19M     10,000+  Free     0   \n",
       "1  ART_AND_DESIGN     3.9      967   14M    500,000+  Free     0   \n",
       "2  ART_AND_DESIGN     4.7    87510  8.7M  5,000,000+  Free     0   \n",
       "\n",
       "  content_rating                     genres      last_updated current_ver  \\\n",
       "0       Everyone               Art & Design   January 7, 2018       1.0.0   \n",
       "1       Everyone  Art & Design;Pretend Play  January 15, 2018       2.0.0   \n",
       "2       Everyone               Art & Design    August 1, 2018       1.2.4   \n",
       "\n",
       "    android_ver  \n",
       "0  4.0.3 and up  \n",
       "1  4.0.3 and up  \n",
       "2  4.0.3 and up  "
      ]
     },
     "execution_count": 9,
     "metadata": {},
     "output_type": "execute_result"
    }
   ],
   "source": [
    "playstore.rename(columns = lambda x: x.lower().replace(' ','_'), inplace=True)\n",
    "playstore.head(3)"
   ]
  },
  {
   "attachments": {},
   "cell_type": "markdown",
   "metadata": {},
   "source": [
    "### Задание 8"
   ]
  },
  {
   "attachments": {},
   "cell_type": "markdown",
   "metadata": {},
   "source": [
    "Давайте посмотрим на долю платных и бесплатных приложений. В качестве ответа введите долю бесплатных приложений. Ответ округлите до сотых, в качестве десятичного разделителя используйте точку.\n",
    "\n",
    "*Не забудьте убрать дубликаты перед подсчетом доли!*"
   ]
  },
  {
   "cell_type": "code",
   "execution_count": 10,
   "metadata": {},
   "outputs": [
    {
     "data": {
      "text/plain": [
       "0.92"
      ]
     },
     "execution_count": 10,
     "metadata": {},
     "output_type": "execute_result"
    }
   ],
   "source": [
    "round(playstore.drop_duplicates(subset=['app'])['type']\\\n",
    "               .value_counts(normalize=True)['Free'], 2)\n"
   ]
  },
  {
   "attachments": {},
   "cell_type": "markdown",
   "metadata": {},
   "source": [
    "### Задание 9"
   ]
  },
  {
   "attachments": {},
   "cell_type": "markdown",
   "metadata": {},
   "source": [
    "Отберите из датафрейма только те приложения, которые относятся к образовательной категории  (EDUCATION) и с количеством отзывов пользователей более 1000.\n",
    "\n",
    "Сохраните новый датафрейм в переменную education_playstore.\n",
    "\n",
    "*Не забудьте сбросить индекс в полученном датафрейме!*"
   ]
  },
  {
   "cell_type": "code",
   "execution_count": 11,
   "metadata": {},
   "outputs": [
    {
     "data": {
      "text/html": [
       "<div>\n",
       "<style scoped>\n",
       "    .dataframe tbody tr th:only-of-type {\n",
       "        vertical-align: middle;\n",
       "    }\n",
       "\n",
       "    .dataframe tbody tr th {\n",
       "        vertical-align: top;\n",
       "    }\n",
       "\n",
       "    .dataframe thead th {\n",
       "        text-align: right;\n",
       "    }\n",
       "</style>\n",
       "<table border=\"1\" class=\"dataframe\">\n",
       "  <thead>\n",
       "    <tr style=\"text-align: right;\">\n",
       "      <th></th>\n",
       "      <th>unnamed:_0</th>\n",
       "      <th>app</th>\n",
       "      <th>category</th>\n",
       "      <th>rating</th>\n",
       "      <th>reviews</th>\n",
       "      <th>size</th>\n",
       "      <th>installs</th>\n",
       "      <th>type</th>\n",
       "      <th>price</th>\n",
       "      <th>content_rating</th>\n",
       "      <th>genres</th>\n",
       "      <th>last_updated</th>\n",
       "      <th>current_ver</th>\n",
       "      <th>android_ver</th>\n",
       "    </tr>\n",
       "  </thead>\n",
       "  <tbody>\n",
       "    <tr>\n",
       "      <th>0</th>\n",
       "      <td>699</td>\n",
       "      <td>Duolingo: Learn Languages Free</td>\n",
       "      <td>EDUCATION</td>\n",
       "      <td>4.7</td>\n",
       "      <td>6289924</td>\n",
       "      <td>Varies with device</td>\n",
       "      <td>100,000,000+</td>\n",
       "      <td>Free</td>\n",
       "      <td>0</td>\n",
       "      <td>Everyone</td>\n",
       "      <td>Education;Education</td>\n",
       "      <td>August 1, 2018</td>\n",
       "      <td>Varies with device</td>\n",
       "      <td>Varies with device</td>\n",
       "    </tr>\n",
       "    <tr>\n",
       "      <th>1</th>\n",
       "      <td>700</td>\n",
       "      <td>TED</td>\n",
       "      <td>EDUCATION</td>\n",
       "      <td>4.6</td>\n",
       "      <td>181893</td>\n",
       "      <td>18M</td>\n",
       "      <td>10,000,000+</td>\n",
       "      <td>Free</td>\n",
       "      <td>0</td>\n",
       "      <td>Everyone 10+</td>\n",
       "      <td>Education</td>\n",
       "      <td>July 27, 2018</td>\n",
       "      <td>3.2.5</td>\n",
       "      <td>4.1 and up</td>\n",
       "    </tr>\n",
       "    <tr>\n",
       "      <th>2</th>\n",
       "      <td>701</td>\n",
       "      <td>English Communication - Learn English for Chin...</td>\n",
       "      <td>EDUCATION</td>\n",
       "      <td>4.7</td>\n",
       "      <td>2544</td>\n",
       "      <td>18M</td>\n",
       "      <td>100,000+</td>\n",
       "      <td>Free</td>\n",
       "      <td>0</td>\n",
       "      <td>Everyone</td>\n",
       "      <td>Education</td>\n",
       "      <td>December 29, 2017</td>\n",
       "      <td>3.1</td>\n",
       "      <td>4.0 and up</td>\n",
       "    </tr>\n",
       "  </tbody>\n",
       "</table>\n",
       "</div>"
      ],
      "text/plain": [
       "   unnamed:_0                                                app   category  \\\n",
       "0         699                     Duolingo: Learn Languages Free  EDUCATION   \n",
       "1         700                                                TED  EDUCATION   \n",
       "2         701  English Communication - Learn English for Chin...  EDUCATION   \n",
       "\n",
       "   rating  reviews                size      installs  type price  \\\n",
       "0     4.7  6289924  Varies with device  100,000,000+  Free     0   \n",
       "1     4.6   181893                 18M   10,000,000+  Free     0   \n",
       "2     4.7     2544                 18M      100,000+  Free     0   \n",
       "\n",
       "  content_rating               genres       last_updated         current_ver  \\\n",
       "0       Everyone  Education;Education     August 1, 2018  Varies with device   \n",
       "1   Everyone 10+            Education      July 27, 2018               3.2.5   \n",
       "2       Everyone            Education  December 29, 2017                 3.1   \n",
       "\n",
       "          android_ver  \n",
       "0  Varies with device  \n",
       "1          4.1 and up  \n",
       "2          4.0 and up  "
      ]
     },
     "execution_count": 11,
     "metadata": {},
     "output_type": "execute_result"
    }
   ],
   "source": [
    "education_playstore = playstore[(playstore['category'] == 'EDUCATION') & (playstore['reviews'] > 1000)]\\\n",
    "                        .reset_index(drop=True)\n",
    "education_playstore.head(3)"
   ]
  },
  {
   "attachments": {},
   "cell_type": "markdown",
   "metadata": {},
   "source": [
    "### Задание 10"
   ]
  },
  {
   "attachments": {},
   "cell_type": "markdown",
   "metadata": {},
   "source": [
    "Давайте уберем лишние символы из колонки с ценой (price), чтобы далее с ней было удобнее работать, и переведем данные в тип float"
   ]
  },
  {
   "cell_type": "code",
   "execution_count": 12,
   "metadata": {},
   "outputs": [
    {
     "name": "stderr",
     "output_type": "stream",
     "text": [
      "C:\\Users\\pr-mi\\AppData\\Local\\Temp\\ipykernel_2820\\2611335479.py:1: FutureWarning: The default value of regex will change from True to False in a future version. In addition, single character regular expressions will *not* be treated as literal strings when regex=True.\n",
      "  playstore['price'] = playstore['price'].str.replace('$','').astype('float64')\n"
     ]
    },
    {
     "data": {
      "text/html": [
       "<div>\n",
       "<style scoped>\n",
       "    .dataframe tbody tr th:only-of-type {\n",
       "        vertical-align: middle;\n",
       "    }\n",
       "\n",
       "    .dataframe tbody tr th {\n",
       "        vertical-align: top;\n",
       "    }\n",
       "\n",
       "    .dataframe thead th {\n",
       "        text-align: right;\n",
       "    }\n",
       "</style>\n",
       "<table border=\"1\" class=\"dataframe\">\n",
       "  <thead>\n",
       "    <tr style=\"text-align: right;\">\n",
       "      <th></th>\n",
       "      <th>unnamed:_0</th>\n",
       "      <th>app</th>\n",
       "      <th>category</th>\n",
       "      <th>rating</th>\n",
       "      <th>reviews</th>\n",
       "      <th>size</th>\n",
       "      <th>installs</th>\n",
       "      <th>type</th>\n",
       "      <th>price</th>\n",
       "      <th>content_rating</th>\n",
       "      <th>genres</th>\n",
       "      <th>last_updated</th>\n",
       "      <th>current_ver</th>\n",
       "      <th>android_ver</th>\n",
       "    </tr>\n",
       "  </thead>\n",
       "  <tbody>\n",
       "    <tr>\n",
       "      <th>0</th>\n",
       "      <td>0</td>\n",
       "      <td>Photo Editor &amp; Candy Camera &amp; Grid &amp; ScrapBook</td>\n",
       "      <td>ART_AND_DESIGN</td>\n",
       "      <td>4.1</td>\n",
       "      <td>159</td>\n",
       "      <td>19M</td>\n",
       "      <td>10,000+</td>\n",
       "      <td>Free</td>\n",
       "      <td>0.0</td>\n",
       "      <td>Everyone</td>\n",
       "      <td>Art &amp; Design</td>\n",
       "      <td>January 7, 2018</td>\n",
       "      <td>1.0.0</td>\n",
       "      <td>4.0.3 and up</td>\n",
       "    </tr>\n",
       "    <tr>\n",
       "      <th>1</th>\n",
       "      <td>1</td>\n",
       "      <td>Coloring book moana</td>\n",
       "      <td>ART_AND_DESIGN</td>\n",
       "      <td>3.9</td>\n",
       "      <td>967</td>\n",
       "      <td>14M</td>\n",
       "      <td>500,000+</td>\n",
       "      <td>Free</td>\n",
       "      <td>0.0</td>\n",
       "      <td>Everyone</td>\n",
       "      <td>Art &amp; Design;Pretend Play</td>\n",
       "      <td>January 15, 2018</td>\n",
       "      <td>2.0.0</td>\n",
       "      <td>4.0.3 and up</td>\n",
       "    </tr>\n",
       "    <tr>\n",
       "      <th>2</th>\n",
       "      <td>2</td>\n",
       "      <td>U Launcher Lite – FREE Live Cool Themes, Hide ...</td>\n",
       "      <td>ART_AND_DESIGN</td>\n",
       "      <td>4.7</td>\n",
       "      <td>87510</td>\n",
       "      <td>8.7M</td>\n",
       "      <td>5,000,000+</td>\n",
       "      <td>Free</td>\n",
       "      <td>0.0</td>\n",
       "      <td>Everyone</td>\n",
       "      <td>Art &amp; Design</td>\n",
       "      <td>August 1, 2018</td>\n",
       "      <td>1.2.4</td>\n",
       "      <td>4.0.3 and up</td>\n",
       "    </tr>\n",
       "  </tbody>\n",
       "</table>\n",
       "</div>"
      ],
      "text/plain": [
       "   unnamed:_0                                                app  \\\n",
       "0           0     Photo Editor & Candy Camera & Grid & ScrapBook   \n",
       "1           1                                Coloring book moana   \n",
       "2           2  U Launcher Lite – FREE Live Cool Themes, Hide ...   \n",
       "\n",
       "         category  rating  reviews  size    installs  type  price  \\\n",
       "0  ART_AND_DESIGN     4.1      159   19M     10,000+  Free    0.0   \n",
       "1  ART_AND_DESIGN     3.9      967   14M    500,000+  Free    0.0   \n",
       "2  ART_AND_DESIGN     4.7    87510  8.7M  5,000,000+  Free    0.0   \n",
       "\n",
       "  content_rating                     genres      last_updated current_ver  \\\n",
       "0       Everyone               Art & Design   January 7, 2018       1.0.0   \n",
       "1       Everyone  Art & Design;Pretend Play  January 15, 2018       2.0.0   \n",
       "2       Everyone               Art & Design    August 1, 2018       1.2.4   \n",
       "\n",
       "    android_ver  \n",
       "0  4.0.3 and up  \n",
       "1  4.0.3 and up  \n",
       "2  4.0.3 and up  "
      ]
     },
     "execution_count": 12,
     "metadata": {},
     "output_type": "execute_result"
    }
   ],
   "source": [
    "playstore['price'] = playstore['price'].str.replace('$','').astype('float64')\n",
    "playstore.head(3)"
   ]
  },
  {
   "attachments": {},
   "cell_type": "markdown",
   "metadata": {},
   "source": [
    "### Задание 11"
   ]
  },
  {
   "attachments": {},
   "cell_type": "markdown",
   "metadata": {},
   "source": [
    "В качестве последнего задания вам предстоит сделать сводную таблицу по данным. Полученная на выходе таблица должна соответствовать представленному шаблону: \n",
    "\n",
    "|||mean_price|mean_rating|mean_reviews|\n",
    "|:--|:--|:-:|:-:|:-:|\n",
    "|**category**|**type**||||\t\t\t\n",
    "|ART_AND_DESIGN|Free|Х.ХХ|Х.Х|Х.ХХ|\n",
    "||Paid|Х.ХХ|Х.Х|Х.ХХ|\n",
    "|AUTO_AND_VEHICLES|Free|Х.ХХ|Х.Х|Х.ХХ|\n",
    "||Paid|Х.ХХ|Х.Х|Х.ХХ|\n",
    "|...|...|...|...|...|\n",
    "\n",
    "Колонки должны иметь соответствующие названия, значения таблицы округлены до указанного числа знаков после точки. В качестве ответа загрузите полученную таблицу в формате csv (сепаратор запятая - \",\")\n",
    "\n",
    "*Понадобится погуглить информацию по запросу \"Сводная таблица pandas\"*\n",
    "\n",
    "*Таблицу нужно делать по данным, где удалены дубликаты*"
   ]
  },
  {
   "cell_type": "code",
   "execution_count": 13,
   "metadata": {},
   "outputs": [
    {
     "data": {
      "text/html": [
       "<div>\n",
       "<style scoped>\n",
       "    .dataframe tbody tr th:only-of-type {\n",
       "        vertical-align: middle;\n",
       "    }\n",
       "\n",
       "    .dataframe tbody tr th {\n",
       "        vertical-align: top;\n",
       "    }\n",
       "\n",
       "    .dataframe thead th {\n",
       "        text-align: right;\n",
       "    }\n",
       "</style>\n",
       "<table border=\"1\" class=\"dataframe\">\n",
       "  <thead>\n",
       "    <tr style=\"text-align: right;\">\n",
       "      <th></th>\n",
       "      <th></th>\n",
       "      <th>mean_price</th>\n",
       "      <th>mean_rating</th>\n",
       "      <th>mean_reviews</th>\n",
       "    </tr>\n",
       "    <tr>\n",
       "      <th>category</th>\n",
       "      <th>type</th>\n",
       "      <th></th>\n",
       "      <th></th>\n",
       "      <th></th>\n",
       "    </tr>\n",
       "  </thead>\n",
       "  <tbody>\n",
       "    <tr>\n",
       "      <th rowspan=\"2\" valign=\"top\">ART_AND_DESIGN</th>\n",
       "      <th>Free</th>\n",
       "      <td>0.00</td>\n",
       "      <td>4.3</td>\n",
       "      <td>23230.11</td>\n",
       "    </tr>\n",
       "    <tr>\n",
       "      <th>Paid</th>\n",
       "      <td>1.99</td>\n",
       "      <td>4.7</td>\n",
       "      <td>722.00</td>\n",
       "    </tr>\n",
       "    <tr>\n",
       "      <th rowspan=\"2\" valign=\"top\">AUTO_AND_VEHICLES</th>\n",
       "      <th>Free</th>\n",
       "      <td>0.00</td>\n",
       "      <td>4.2</td>\n",
       "      <td>14140.28</td>\n",
       "    </tr>\n",
       "    <tr>\n",
       "      <th>Paid</th>\n",
       "      <td>4.49</td>\n",
       "      <td>4.6</td>\n",
       "      <td>1387.67</td>\n",
       "    </tr>\n",
       "    <tr>\n",
       "      <th>BEAUTY</th>\n",
       "      <th>Free</th>\n",
       "      <td>0.00</td>\n",
       "      <td>4.3</td>\n",
       "      <td>7476.23</td>\n",
       "    </tr>\n",
       "    <tr>\n",
       "      <th>...</th>\n",
       "      <th>...</th>\n",
       "      <td>...</td>\n",
       "      <td>...</td>\n",
       "      <td>...</td>\n",
       "    </tr>\n",
       "    <tr>\n",
       "      <th>TRAVEL_AND_LOCAL</th>\n",
       "      <th>Paid</th>\n",
       "      <td>4.16</td>\n",
       "      <td>4.1</td>\n",
       "      <td>1506.08</td>\n",
       "    </tr>\n",
       "    <tr>\n",
       "      <th rowspan=\"2\" valign=\"top\">VIDEO_PLAYERS</th>\n",
       "      <th>Free</th>\n",
       "      <td>0.00</td>\n",
       "      <td>4.0</td>\n",
       "      <td>424347.18</td>\n",
       "    </tr>\n",
       "    <tr>\n",
       "      <th>Paid</th>\n",
       "      <td>2.62</td>\n",
       "      <td>4.1</td>\n",
       "      <td>3341.75</td>\n",
       "    </tr>\n",
       "    <tr>\n",
       "      <th rowspan=\"2\" valign=\"top\">WEATHER</th>\n",
       "      <th>Free</th>\n",
       "      <td>0.00</td>\n",
       "      <td>4.2</td>\n",
       "      <td>171249.62</td>\n",
       "    </tr>\n",
       "    <tr>\n",
       "      <th>Paid</th>\n",
       "      <td>4.05</td>\n",
       "      <td>4.4</td>\n",
       "      <td>17055.12</td>\n",
       "    </tr>\n",
       "  </tbody>\n",
       "</table>\n",
       "<p>63 rows × 3 columns</p>\n",
       "</div>"
      ],
      "text/plain": [
       "                        mean_price  mean_rating  mean_reviews\n",
       "category          type                                       \n",
       "ART_AND_DESIGN    Free        0.00          4.3      23230.11\n",
       "                  Paid        1.99          4.7        722.00\n",
       "AUTO_AND_VEHICLES Free        0.00          4.2      14140.28\n",
       "                  Paid        4.49          4.6       1387.67\n",
       "BEAUTY            Free        0.00          4.3       7476.23\n",
       "...                            ...          ...           ...\n",
       "TRAVEL_AND_LOCAL  Paid        4.16          4.1       1506.08\n",
       "VIDEO_PLAYERS     Free        0.00          4.0     424347.18\n",
       "                  Paid        2.62          4.1       3341.75\n",
       "WEATHER           Free        0.00          4.2     171249.62\n",
       "                  Paid        4.05          4.4      17055.12\n",
       "\n",
       "[63 rows x 3 columns]"
      ]
     },
     "execution_count": 13,
     "metadata": {},
     "output_type": "execute_result"
    }
   ],
   "source": [
    "playstore = playstore.drop_duplicates(subset=['app']).reset_index(drop=True)\n",
    "\n",
    "pivot_table = pd.pivot_table(playstore, index=['category', 'type'],\\\n",
    "                             aggfunc={'price':'mean',\\\n",
    "                                      'rating':'mean',\\\n",
    "                                      'reviews':'mean'})\n",
    "\n",
    "pivot_table.rename(columns={'price':'mean_price',\\\n",
    "                            'rating':'mean_rating',\\\n",
    "                            'reviews':'mean_reviews'},\\\n",
    "                            inplace=True)\n",
    "\n",
    "pivot_table = pivot_table.round({'mean_price':2,\\\n",
    "                                 'mean_rating':1,\\\n",
    "                                 'mean_reviews':2})\n",
    "                                 \n",
    "pivot_table"
   ]
  },
  {
   "cell_type": "code",
   "execution_count": 14,
   "metadata": {},
   "outputs": [],
   "source": [
    "pivot_table.to_csv('pivot_table.csv')"
   ]
  }
 ],
 "metadata": {
  "kernelspec": {
   "display_name": "Python 3",
   "language": "python",
   "name": "python3"
  },
  "language_info": {
   "codemirror_mode": {
    "name": "ipython",
    "version": 3
   },
   "file_extension": ".py",
   "mimetype": "text/x-python",
   "name": "python",
   "nbconvert_exporter": "python",
   "pygments_lexer": "ipython3",
   "version": "3.9.13 (tags/v3.9.13:6de2ca5, May 17 2022, 16:36:42) [MSC v.1929 64 bit (AMD64)]"
  },
  "orig_nbformat": 4,
  "vscode": {
   "interpreter": {
    "hash": "c9e369fd939574eb556aa51f29550d548e28be857f924fa9c2e754f086740f28"
   }
  }
 },
 "nbformat": 4,
 "nbformat_minor": 2
}
