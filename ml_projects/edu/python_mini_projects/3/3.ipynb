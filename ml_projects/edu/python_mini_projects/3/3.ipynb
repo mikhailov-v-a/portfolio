{
 "cells": [
  {
   "attachments": {},
   "cell_type": "markdown",
   "metadata": {},
   "source": [
    "Классы и ООП"
   ]
  },
  {
   "attachments": {},
   "cell_type": "markdown",
   "metadata": {},
   "source": [
    "### Задание 1"
   ]
  },
  {
   "attachments": {},
   "cell_type": "markdown",
   "metadata": {},
   "source": [
    "Простые классы\n",
    "Напишите класс ***Triangle***, который будет иметь 3 поля: ***a, b, c*** (стороны треугольника) и ***n_dots = 3*** (количество точек). Поле ***n_dots*** объявите на уровне класса, не в конструкторе — чтобы оно было доступно без создания объекта (т.е. работал вызов ***Triangle.n_dots***). Добавьте в класс простой конструктор, принимающий на вход все три стороны и сохраняющий эти стороны в соответсвующие поля класса.\n",
    "\n",
    "Создайте объекты этого класса со следующими названиями: ***tr_1, tr_2*** и любыми значениями длин сторон."
   ]
  },
  {
   "cell_type": "code",
   "execution_count": 22,
   "metadata": {},
   "outputs": [],
   "source": [
    "class Triangle:\n",
    "    n_dots = 3\n",
    "    def __init__(self, a, b, c):\n",
    "        self.a = a\n",
    "        self.b = b\n",
    "        self.c = c\n",
    "\n",
    "tr_1 = Triangle(1, 2, 3)\n",
    "tr_2 = Triangle(3, 4, 5)\n"
   ]
  },
  {
   "attachments": {},
   "cell_type": "markdown",
   "metadata": {},
   "source": [
    "### Задание 2"
   ]
  },
  {
   "attachments": {},
   "cell_type": "markdown",
   "metadata": {},
   "source": [
    "Усложняем треугольник\n",
    "Возьмите класс ***Triangle*** из предыдущего задания и добавьте метод ***area()***, возвращающий площадь треугольника. Напомним, что при известных трех сторонах площадь треугольника можно подсчитать по формуле Герона.\n",
    "\n",
    "Затем поменяйте конструктор: он должен проверять, что выполнено неравенство треугольника - каждая сторона меньше или равна сумме двух других. Если это условие не выполнено, выбрасывайте ***ValueError с текстом \"triangle inequality does not hold\"*** (передайте эту строку в конструктор ValueError).\n",
    "\n",
    "Наконец, создайте два объекта данного класса с названиями ***tr_1 и tr_2***, в которых соблюдается равенство треугольника. Также, сохраните в переменные ***square_1 и square_2*** результаты вызовов методов ***.area()*** для объектов ***tr_1 и tr_2*** соответственно.\n",
    "\n",
    "Может пригодиться: *Ключевое слово raise в Python*"
   ]
  },
  {
   "cell_type": "code",
   "execution_count": 23,
   "metadata": {},
   "outputs": [
    {
     "name": "stdout",
     "output_type": "stream",
     "text": [
      "Площадь первого треугольника = 6.0\n",
      "Площадь второго треугольника = 30.0\n"
     ]
    }
   ],
   "source": [
    "class Triangle:\n",
    "    n_dots = 3\n",
    "\n",
    "    def __init__(self, a, b, c):\n",
    "        self.a = a\n",
    "        self.b = b\n",
    "        self.c = c\n",
    "        if (a+b < c) or (c+b < a) or (c+a < b):\n",
    "            raise ValueError('triangle inequality does not hold')\n",
    "\n",
    "    def area(self):\n",
    "        p = 1/2 * (self.a + self.b + self.c)\n",
    "        s = (p * (p-self.a) * (p-self.b) * (p-self.c))**(1/2)\n",
    "        return s\n",
    "\n",
    "tr_1 = Triangle(3, 4, 5)\n",
    "tr_2 = Triangle(5, 12, 13)\n",
    "\n",
    "square_1 = tr_1.area()\n",
    "square_2 = tr_2.area()\n",
    "\n",
    "print(f'''Площадь первого треугольника = {square_1}\n",
    "Площадь второго треугольника = {square_2}''')"
   ]
  },
  {
   "attachments": {},
   "cell_type": "markdown",
   "metadata": {},
   "source": [
    "### Задание 3"
   ]
  },
  {
   "attachments": {},
   "cell_type": "markdown",
   "metadata": {},
   "source": [
    "Простое наследование\n",
    "\n",
    "Создайте класс ***Rectangle*** (прямоугольник), который будет наследоваться от класса ***Triangle***. Сделайте так, чтобы ***area()***, конструктор и поле ***n_dots*** были верными.\n",
    "\n",
    "А именно:\n",
    "1. Конструктор должен принимать 2 стороны: ***a, b***\n",
    "2. ***area()*** должен считать площадь как произведение смежных сторон: ***S=ab***\n",
    "3. Неравенство треугольника не нужно проверять.\n",
    "4. ***n_dots*** должен быть объявлен на уровне класса и равняться 4.\n",
    "\n",
    "Отправьте реализацию класса Rectangle в LMS. Класс Triangle отправлять не нужно."
   ]
  },
  {
   "cell_type": "code",
   "execution_count": 24,
   "metadata": {},
   "outputs": [
    {
     "name": "stdout",
     "output_type": "stream",
     "text": [
      "Площадь первого прямоугольника = 4\n",
      "Площадь второго прямоугольника = 12\n"
     ]
    }
   ],
   "source": [
    "class Rectangle(Triangle):\n",
    "    n_dots = 4\n",
    "\n",
    "    def __init__(self, a, b):\n",
    "        self.a = a\n",
    "        self.b = b\n",
    "    \n",
    "    def area(self):\n",
    "        s = self.a * self.b\n",
    "        return s\n",
    "\n",
    "rc_1 = Rectangle(2, 2)\n",
    "rc_2 = Rectangle(3, 4)\n",
    "\n",
    "\n",
    "square_1 = rc_1.area()\n",
    "square_2 = rc_2.area()\n",
    "\n",
    "print(f'''Площадь первого прямоугольника = {square_1}\n",
    "Площадь второго прямоугольника = {square_2}''')"
   ]
  },
  {
   "attachments": {},
   "cell_type": "markdown",
   "metadata": {},
   "source": [
    "### Задание 4"
   ]
  },
  {
   "attachments": {},
   "cell_type": "markdown",
   "metadata": {},
   "source": [
    "Наследование: абстрактный класс (1/4)\n",
    "\n",
    "Вы, наверно, заметили, что при наследовании в прошлом задании мы переписали почти всю логику. Это плохо: при наследовании нужно расширять класс, а не переписывать его.\n",
    "\n",
    "Но все же хочется использовать наследование, ведь треугольники и прямоугольники имеют общие свойства: \n",
    "1. Оба характеризуются количеством точек ***n_dots***.\n",
    "2. Оба имеют метод ***area()***.\n",
    "3. Оба имеют проверки на валидность данных. В случае прямоугольника это было равенство противоположных сторон, которое мы пропустили благодаря трюку: вместо принятия четырех сторон ***a, b, c, d*** на вход мы принимали две и далее держали в уме ***a=c, b=d***. В случае треугольника это было неравенство треугольника.\n",
    "\n",
    "Тут нам поможет создание некой \"базовой фигуры\". Это будет сборник общих свойств, который сам по себе не будет представлять никакую фигуру, но послужит хорошим плацдармом для следующих классов.\n",
    "\n",
    "Напишите класс ***BaseFigure***, который имеет поле класса (т.е. на уровне класса) ***n_dots = None***, метод ***area()*** \"без реализации\", метод ***validate()*** \"без реализации\". Сделайте так, чтобы методы \"без реализации\" выбрасывали исключение ***NotImplementedError*** при их вызове и ничего другого не делали. Создайте также конструктор класса, который не принимает дополнительных аргументов и в реализации только лишь вызывает ***self.validate()***.\n",
    "\n",
    "Отправьте этот абстрактный класс в LMS ниже."
   ]
  },
  {
   "cell_type": "code",
   "execution_count": 25,
   "metadata": {},
   "outputs": [],
   "source": [
    "class BaseFigure:\n",
    "    n_dots = None\n",
    "\n",
    "    def area(self):\n",
    "        raise NotImplementedError()\n",
    "\n",
    "    def validate(self):\n",
    "        raise NotImplementedError()\n",
    "\n",
    "    def __init__(self):\n",
    "        self.validate()"
   ]
  },
  {
   "attachments": {},
   "cell_type": "markdown",
   "metadata": {},
   "source": [
    "### Задание 5"
   ]
  },
  {
   "attachments": {},
   "cell_type": "markdown",
   "metadata": {},
   "source": [
    "Наследование: абстрактный класс (2/4)\n",
    "\n",
    "Перепишите классы ***Triangle, Rectangle*** так, чтобы они наследовались от ***BaseFigure***. Затем уберите реализацию всех методов и конструкторов в классах-потомках.\n",
    "\n",
    "Есть ли у ***Triangle, Rectangle*** методы ***area, validate***? Если есть, то что они возвращают при вызове?\n",
    "\n",
    "- Нет ни одного, поскольку мы удалили их из класса по требованию задания\n",
    "- Есть оба метода, оба выбрасывают исключение NotImplemented\n",
    "- Есть оба метода, оба считают площадь как a * b\n",
    "- Нет ни одного, посколько в базовом классе у них стоит NotImplemented() в теле функции"
   ]
  },
  {
   "cell_type": "code",
   "execution_count": 26,
   "metadata": {},
   "outputs": [],
   "source": [
    "class Triangle(BaseFigure):\n",
    "    n_dots = 3\n"
   ]
  },
  {
   "cell_type": "code",
   "execution_count": 27,
   "metadata": {},
   "outputs": [],
   "source": [
    "class Rectangle(BaseFigure):\n",
    "    n_dots = 4"
   ]
  },
  {
   "cell_type": "code",
   "execution_count": 28,
   "metadata": {},
   "outputs": [
    {
     "ename": "NotImplementedError",
     "evalue": "",
     "output_type": "error",
     "traceback": [
      "\u001b[1;31m---------------------------------------------------------------------------\u001b[0m",
      "\u001b[1;31mNotImplementedError\u001b[0m                       Traceback (most recent call last)",
      "Cell \u001b[1;32mIn[28], line 1\u001b[0m\n\u001b[1;32m----> 1\u001b[0m Triangle\u001b[39m.\u001b[39;49mvalidate(\u001b[39m1\u001b[39;49m)\n",
      "Cell \u001b[1;32mIn[25], line 8\u001b[0m, in \u001b[0;36mBaseFigure.validate\u001b[1;34m(self)\u001b[0m\n\u001b[0;32m      7\u001b[0m \u001b[39mdef\u001b[39;00m \u001b[39mvalidate\u001b[39m(\u001b[39mself\u001b[39m):\n\u001b[1;32m----> 8\u001b[0m     \u001b[39mraise\u001b[39;00m \u001b[39mNotImplementedError\u001b[39;00m()\n",
      "\u001b[1;31mNotImplementedError\u001b[0m: "
     ]
    }
   ],
   "source": [
    "Triangle.validate(1)"
   ]
  },
  {
   "cell_type": "code",
   "execution_count": null,
   "metadata": {},
   "outputs": [
    {
     "ename": "NotImplementedError",
     "evalue": "",
     "output_type": "error",
     "traceback": [
      "\u001b[1;31m---------------------------------------------------------------------------\u001b[0m",
      "\u001b[1;31mNotImplementedError\u001b[0m                       Traceback (most recent call last)",
      "Cell \u001b[1;32mIn[45], line 1\u001b[0m\n\u001b[1;32m----> 1\u001b[0m Rectangle\u001b[39m.\u001b[39;49marea(\u001b[39m2\u001b[39;49m)\n",
      "Cell \u001b[1;32mIn[34], line 5\u001b[0m, in \u001b[0;36mBaseFigure.area\u001b[1;34m(self)\u001b[0m\n\u001b[0;32m      4\u001b[0m \u001b[39mdef\u001b[39;00m \u001b[39marea\u001b[39m(\u001b[39mself\u001b[39m):\n\u001b[1;32m----> 5\u001b[0m     \u001b[39mraise\u001b[39;00m \u001b[39mNotImplementedError\u001b[39;00m()\n",
      "\u001b[1;31mNotImplementedError\u001b[0m: "
     ]
    }
   ],
   "source": [
    "Rectangle.area(2)"
   ]
  },
  {
   "attachments": {},
   "cell_type": "markdown",
   "metadata": {},
   "source": [
    "Ответ:\n",
    "- Есть оба метода, оба выбрасывают исключение NotImplemented"
   ]
  },
  {
   "attachments": {},
   "cell_type": "markdown",
   "metadata": {},
   "source": [
    "### Задание 6"
   ]
  },
  {
   "attachments": {},
   "cell_type": "markdown",
   "metadata": {},
   "source": [
    "Наследование: абстрактный класс (3/4)\n",
    "\n",
    "Возьмите классы ***Triangle и Rectangle*** из прошлого задания.\n",
    "\n",
    "1. Переопределите метод area в каждом случае.\n",
    "2. Переопределите конструктор в каждом случае (число аргументов тоже меняется). Не забудьте в конструкторе дочернего класса вызвать конструктор родительского класса!\n",
    "3. Переопределите метод ***validate*** в каждом случае. Метод ***validate*** должен принимать только аргумент ***self*** и использовать созданные в конструкторе переменные. Для этого вы можете сначала сохранять в конструкторе входные данные в ***self.переменная***, а затем вызывать конструктор суперкласса. Для ***Triangle*** данный метод должен проверять неравенство треугольника и выбрасывать ошибку ***ValueError(\"triangle inequality does not hold\")*** либо возвращать значения сторон. Для ***Rectangle*** данный метод должен возвращать значения сторон.\n",
    "\n",
    "В итоге вы получите два класса, которые построены по схожему шаблону. Этот общий шаблон был задан в классе ***BaseFigure***. Создайте несколько объектов этих классов и попробуйте вызвать у них ***.area()***, ***.validate()***. Если вы пользуетесь IDE, то увидите интерактивные подсказки: она скажет, что такие методы есть и что эти методы перегружают (overload) методы из родительского класса. При этом вызов методов будет работать коррректно.\n",
    "\n",
    "Загрузите в LMS реализацию классов Triangle, Rectangle. Используйте для отступов 4 пробела. ОБРАТИТЕ ВНИМАНИЕ, что реализацию класса BaseFigure загружать не надо."
   ]
  },
  {
   "cell_type": "code",
   "execution_count": null,
   "metadata": {},
   "outputs": [],
   "source": [
    "class Triangle(BaseFigure):\n",
    "    n_dots = 3\n",
    "\n",
    "    def __init__(self, a, b, c):\n",
    "        self.a = a\n",
    "        self.b = b\n",
    "        self.c = c\n",
    "        super().__init__()\n",
    "\n",
    "    def validate(self): \n",
    "        if (self.a + self.b < self.c) or (self.c + self.b < self.a) or (self.c + self.a < self.b):\n",
    "            raise ValueError('triangle inequality does not hold')\n",
    "        else:\n",
    "            return self.a, self.b, self.c\n",
    "\n",
    "    def area(self):\n",
    "        p = 1/2 * (self.a + self.b + self.c)\n",
    "        s = (p * (p-self.a) * (p-self.b) * (p-self.c))**(1/2)\n",
    "        return s\n",
    "\n",
    "class Rectangle(BaseFigure):\n",
    "    n_dots = 4\n",
    "\n",
    "    def __init__(self, a, b):\n",
    "        self.a = a\n",
    "        self.b = b\n",
    "        super().__init__()\n",
    "            \n",
    "    def validate(self):\n",
    "        return self.a, self.b\n",
    "\n",
    "    def area(self):\n",
    "        s = self.a * self.b\n",
    "        return s"
   ]
  },
  {
   "cell_type": "code",
   "execution_count": null,
   "metadata": {},
   "outputs": [
    {
     "name": "stdout",
     "output_type": "stream",
     "text": [
      "Площадь первого треугольника = 6.0\n",
      "Валидация первого треугольника = (3, 4, 5)\n",
      "Площадь второго треугольника = 30.0\n",
      "Валидация второго треугольника = (5, 12, 13)\n"
     ]
    }
   ],
   "source": [
    "tr_1 = Triangle(3, 4, 5)\n",
    "tr_2 = Triangle(5, 12, 13)\n",
    "\n",
    "square_1 = tr_1.area()\n",
    "square_2 = tr_2.area()\n",
    "\n",
    "validate_1 = tr_1.validate()\n",
    "validate_2 = tr_2.validate()\n",
    "\n",
    "print(f'''Площадь первого треугольника = {square_1}\n",
    "Валидация первого треугольника = {validate_1}\n",
    "Площадь второго треугольника = {square_2}\n",
    "Валидация второго треугольника = {validate_2}''')"
   ]
  },
  {
   "cell_type": "code",
   "execution_count": null,
   "metadata": {},
   "outputs": [
    {
     "name": "stdout",
     "output_type": "stream",
     "text": [
      "Площадь первого прямоугольника = 4\n",
      "Валидация первого прямоугольника = (2, 2)\n",
      "Площадь второго прямоугольника = 12\n",
      "Валидация второго прямоугольника = (2, 2)\n"
     ]
    }
   ],
   "source": [
    "rc_1 = Rectangle(2, 2)\n",
    "rc_2 = Rectangle(3, 4)\n",
    "\n",
    "\n",
    "square_1 = rc_1.area()\n",
    "square_2 = rc_2.area()\n",
    "\n",
    "validate_1 = rc_1.validate()\n",
    "validate_2 = rc_2.validate()\n",
    "\n",
    "print(f'''Площадь первого прямоугольника = {square_1}\n",
    "Валидация первого прямоугольника = {validate_1}\n",
    "Площадь второго прямоугольника = {square_2}\n",
    "Валидация второго прямоугольника = {validate_1}''')"
   ]
  },
  {
   "attachments": {},
   "cell_type": "markdown",
   "metadata": {},
   "source": [
    "### Задание 7"
   ]
  },
  {
   "attachments": {},
   "cell_type": "markdown",
   "metadata": {},
   "source": [
    "Наследование: абстрактный класс (4/4)\n",
    "\n",
    "Попробуем собрать совершенно новый класс, используя ***BaseFigure*** в качестве шаблона.\n",
    "\n",
    "Напишите класс ***Circle***, в котором в качестве ***n_dots*** будет ***float('inf')***, ***area*** будет считаться как ***3.14 * r^2***, а конструктор будет принимать только один аргумент - ***r***. Метод ***validate*** не должен принимать никаких аргументов и не должен осуществлять никаких проверок.\n",
    "\n",
    "Отправьте в LMS реализацию этого класса. Отправлять реализацию BaseFigure не нужно."
   ]
  },
  {
   "cell_type": "code",
   "execution_count": null,
   "metadata": {},
   "outputs": [],
   "source": [
    "class Circle(BaseFigure):\n",
    "    n_dots = float('inf')\n",
    "\n",
    "    def __init__(self, r):\n",
    "        self.r = r\n",
    "        super().__init__()\n",
    "    \n",
    "    def validate(self):\n",
    "        pass\n",
    "\n",
    "    def area(self):\n",
    "        s = 3.14 * self.r**2\n",
    "        return s"
   ]
  },
  {
   "cell_type": "code",
   "execution_count": null,
   "metadata": {},
   "outputs": [
    {
     "name": "stdout",
     "output_type": "stream",
     "text": [
      "Площадь первого круга = 28.26\n",
      "Валидация первого круга = None\n",
      "Площадь второго круга = 153.86\n",
      "Валидация второго круга = None\n"
     ]
    }
   ],
   "source": [
    "cr_1 = Circle(3)\n",
    "cr_2 = Circle(7)\n",
    "\n",
    "square_1 = cr_1.area()\n",
    "square_2 = cr_2.area()\n",
    "\n",
    "validate_1 = cr_1.validate()\n",
    "validate_2 = cr_2.validate()\n",
    "\n",
    "print(f'''Площадь первого круга = {square_1}\n",
    "Валидация первого круга = {validate_1}\n",
    "Площадь второго круга = {square_2}\n",
    "Валидация второго круга = {validate_2}''')"
   ]
  },
  {
   "attachments": {},
   "cell_type": "markdown",
   "metadata": {},
   "source": [
    "### Задание 8"
   ]
  },
  {
   "attachments": {},
   "cell_type": "markdown",
   "metadata": {},
   "source": [
    "Магические методы: вектор (1/4)\n",
    "\n",
    "Напишите класс ***Vector***, который на вход будет принимать список координат ***(x1, … ,xn)***. Положите все координаты вектора в список ***self.coords***. Добейтесь того, чтобы объекты класса ***Vector*** можно было складывать через оператор + и получать на выходе тоже объект этого же класса. \n",
    "\n",
    "Например:\n",
    "```python\n",
    "# Будет работать\n",
    "Vector([1, 2, 3]) + Vector((2, 3, 4)) # даст Vector([3, 5, 7])\n",
    "\n",
    "# НЕ будет работать\n",
    "Vector([1, 2]) + Vector([1, 2, 3])  # нельзя складывать векторы разной длины\n",
    "# Должно возвращать ошибку (сообщение тоже!)\n",
    "# ValueError: left and right lengths differ: 2 != 3\n",
    "```"
   ]
  },
  {
   "cell_type": "code",
   "execution_count": 147,
   "metadata": {},
   "outputs": [],
   "source": [
    "class Vector:\n",
    "\n",
    "    def __init__(self, coords):\n",
    "        self.coords = coords\n",
    "\n",
    "    def __add__(self, other):\n",
    "        if len(self.coords) == len(other.coords):\n",
    "            for i in range(len(self.coords)): self.coords[i] += other.coords[i]\n",
    "        else:\n",
    "            raise ValueError(f'left and right lengths differ: {len(self.coords)} != {len(other.coords)}')\n",
    "        return Vector(self.coords)"
   ]
  },
  {
   "cell_type": "code",
   "execution_count": 150,
   "metadata": {},
   "outputs": [
    {
     "name": "stdout",
     "output_type": "stream",
     "text": [
      "<__main__.Vector object at 0x000000000096DB50>\n"
     ]
    }
   ],
   "source": [
    "print(Vector([1, 2, 3]) + Vector([2, 3, 4]))"
   ]
  },
  {
   "cell_type": "code",
   "execution_count": 151,
   "metadata": {},
   "outputs": [
    {
     "ename": "ValueError",
     "evalue": "left and right lengths differ: 2 != 3",
     "output_type": "error",
     "traceback": [
      "\u001b[1;31m---------------------------------------------------------------------------\u001b[0m",
      "\u001b[1;31mValueError\u001b[0m                                Traceback (most recent call last)",
      "Cell \u001b[1;32mIn[151], line 1\u001b[0m\n\u001b[1;32m----> 1\u001b[0m \u001b[39mprint\u001b[39m(Vector([\u001b[39m1\u001b[39;49m, \u001b[39m2\u001b[39;49m]) \u001b[39m+\u001b[39;49m Vector([\u001b[39m1\u001b[39;49m, \u001b[39m2\u001b[39;49m, \u001b[39m3\u001b[39;49m]))\n",
      "Cell \u001b[1;32mIn[147], line 10\u001b[0m, in \u001b[0;36mVector.__add__\u001b[1;34m(self, other)\u001b[0m\n\u001b[0;32m      8\u001b[0m     \u001b[39mfor\u001b[39;00m i \u001b[39min\u001b[39;00m \u001b[39mrange\u001b[39m(\u001b[39mlen\u001b[39m(\u001b[39mself\u001b[39m\u001b[39m.\u001b[39mcoords)): \u001b[39mself\u001b[39m\u001b[39m.\u001b[39mcoords[i] \u001b[39m+\u001b[39m\u001b[39m=\u001b[39m other\u001b[39m.\u001b[39mcoords[i]\n\u001b[0;32m      9\u001b[0m \u001b[39melse\u001b[39;00m:\n\u001b[1;32m---> 10\u001b[0m     \u001b[39mraise\u001b[39;00m \u001b[39mValueError\u001b[39;00m(\u001b[39mf\u001b[39m\u001b[39m'\u001b[39m\u001b[39mleft and right lengths differ: \u001b[39m\u001b[39m{\u001b[39;00m\u001b[39mlen\u001b[39m(\u001b[39mself\u001b[39m\u001b[39m.\u001b[39mcoords)\u001b[39m}\u001b[39;00m\u001b[39m != \u001b[39m\u001b[39m{\u001b[39;00m\u001b[39mlen\u001b[39m(other\u001b[39m.\u001b[39mcoords)\u001b[39m}\u001b[39;00m\u001b[39m'\u001b[39m)\n\u001b[0;32m     11\u001b[0m \u001b[39mreturn\u001b[39;00m Vector(\u001b[39mself\u001b[39m\u001b[39m.\u001b[39mcoords)\n",
      "\u001b[1;31mValueError\u001b[0m: left and right lengths differ: 2 != 3"
     ]
    }
   ],
   "source": [
    "print(Vector([1, 2]) + Vector([1, 2, 3]))"
   ]
  },
  {
   "attachments": {},
   "cell_type": "markdown",
   "metadata": {},
   "source": [
    "### Задание 9"
   ]
  },
  {
   "attachments": {},
   "cell_type": "markdown",
   "metadata": {},
   "source": [
    "Магические методы: вектор (2/4)\n",
    "\n",
    "Добавьте методу красивый вывод при передаче его в ***print(...)***. Пример:\n",
    "\n",
    "```python\n",
    "print(Vector([1, 2, 3]))\n",
    "# Напечатает: \"[1, 2, 3]\" без кавычек\n",
    "\n",
    "vec = Vector([1])\n",
    "print(vec)\n",
    "# Напечатает \"[1]\" без кавычек\n",
    "```\n",
    "\n",
    "Отправьте реализацию класса Vector ниже."
   ]
  },
  {
   "cell_type": "code",
   "execution_count": 152,
   "metadata": {},
   "outputs": [],
   "source": [
    "class Vector:\n",
    "\n",
    "    def __init__(self, coords):\n",
    "        self.coords = coords\n",
    "\n",
    "    def __add__(self, other):\n",
    "        if len(self.coords) == len(other.coords):\n",
    "            for i in range(len(self.coords)): self.coords[i] += other.coords[i]\n",
    "        else:\n",
    "            raise ValueError(f'left and right lengths differ: {len(self.coords)} != {len(other.coords)}')\n",
    "        return Vector(self.coords)\n",
    "\n",
    "    def __str__(self):\n",
    "        return f'{self.coords}'\n"
   ]
  },
  {
   "cell_type": "code",
   "execution_count": 153,
   "metadata": {},
   "outputs": [
    {
     "name": "stdout",
     "output_type": "stream",
     "text": [
      "[3, 5, 7]\n"
     ]
    }
   ],
   "source": [
    "print(Vector([1, 2, 3]) + Vector([2, 3, 4]))"
   ]
  },
  {
   "attachments": {},
   "cell_type": "markdown",
   "metadata": {},
   "source": [
    "### Задание 10"
   ]
  },
  {
   "attachments": {},
   "cell_type": "markdown",
   "metadata": {},
   "source": [
    "Магические методы: вектор (3/4)\n",
    "\n",
    "Продолжаем улучшать вектор. Добавьте в класс возможность умножать вектор на вектор и вектор на число. Не забудьте сохранять координаты вектора в ***self.coords***.\n",
    "\n",
    "```python\n",
    "Vector([1, 2, 3]) * Vector((2, 5, -2))\n",
    "# 1 * 2 + 2 * 5 + 3 * (-2) = 6\n",
    "\n",
    "Vector([1, 2]) * Vector([2, 3, 4])\n",
    "# ValueError: left and right lengths differ: 2 != 3\n",
    "\n",
    "Vector([2, 3, 5, 8]) * 5  \n",
    "# даст Vector([10, 15, 25, 40])\n",
    "```\n",
    "\n",
    "Для проверки типов используйте isinstance(object, class)."
   ]
  },
  {
   "cell_type": "code",
   "execution_count": 154,
   "metadata": {},
   "outputs": [],
   "source": [
    "class Vector:\n",
    "\n",
    "    def __init__(self, coords):\n",
    "        self.coords = coords\n",
    "\n",
    "    def __add__(self, other):\n",
    "        if len(self.coords) == len(other.coords):\n",
    "            for i in range(len(self.coords)): self.coords[i] += other.coords[i]\n",
    "        else:\n",
    "            raise ValueError(f'left and right lengths differ: {len(self.coords)} != {len(other.coords)}')\n",
    "        return Vector(self.coords)\n",
    "\n",
    "    def __mul__(self, other):\n",
    "        if isinstance(self, Vector) and isinstance(other, Vector):\n",
    "            if len(self.coords) == len(other.coords):\n",
    "                mul = 0\n",
    "                for i in range(len(self.coords)): mul += (self.coords[i] * other.coords[i])\n",
    "                return mul\n",
    "            else:\n",
    "                raise ValueError(f'left and right lengths differ: {len(self.coords)} != {len(other.coords)}')\n",
    "        else:\n",
    "            mul = []\n",
    "            for i in range(len(self.coords)): mul.append(self.coords[i] * other)\n",
    "            return Vector(mul)\n",
    "\n",
    "    def __str__(self):\n",
    "        return f'{self.coords}'\n"
   ]
  },
  {
   "cell_type": "code",
   "execution_count": 155,
   "metadata": {},
   "outputs": [
    {
     "data": {
      "text/plain": [
       "6"
      ]
     },
     "execution_count": 155,
     "metadata": {},
     "output_type": "execute_result"
    }
   ],
   "source": [
    "Vector([1, 2, 3]) * Vector((2, 5, -2))"
   ]
  },
  {
   "cell_type": "code",
   "execution_count": 156,
   "metadata": {},
   "outputs": [
    {
     "ename": "ValueError",
     "evalue": "left and right lengths differ: 2 != 3",
     "output_type": "error",
     "traceback": [
      "\u001b[1;31m---------------------------------------------------------------------------\u001b[0m",
      "\u001b[1;31mValueError\u001b[0m                                Traceback (most recent call last)",
      "Cell \u001b[1;32mIn[156], line 1\u001b[0m\n\u001b[1;32m----> 1\u001b[0m Vector([\u001b[39m1\u001b[39;49m, \u001b[39m2\u001b[39;49m]) \u001b[39m*\u001b[39;49m Vector([\u001b[39m2\u001b[39;49m, \u001b[39m3\u001b[39;49m, \u001b[39m4\u001b[39;49m])\n",
      "Cell \u001b[1;32mIn[154], line 20\u001b[0m, in \u001b[0;36mVector.__mul__\u001b[1;34m(self, other)\u001b[0m\n\u001b[0;32m     18\u001b[0m         \u001b[39mreturn\u001b[39;00m mul\n\u001b[0;32m     19\u001b[0m     \u001b[39melse\u001b[39;00m:\n\u001b[1;32m---> 20\u001b[0m         \u001b[39mraise\u001b[39;00m \u001b[39mValueError\u001b[39;00m(\u001b[39mf\u001b[39m\u001b[39m'\u001b[39m\u001b[39mleft and right lengths differ: \u001b[39m\u001b[39m{\u001b[39;00m\u001b[39mlen\u001b[39m(\u001b[39mself\u001b[39m\u001b[39m.\u001b[39mcoords)\u001b[39m}\u001b[39;00m\u001b[39m != \u001b[39m\u001b[39m{\u001b[39;00m\u001b[39mlen\u001b[39m(other\u001b[39m.\u001b[39mcoords)\u001b[39m}\u001b[39;00m\u001b[39m'\u001b[39m)\n\u001b[0;32m     21\u001b[0m \u001b[39melse\u001b[39;00m:\n\u001b[0;32m     22\u001b[0m     mul \u001b[39m=\u001b[39m []\n",
      "\u001b[1;31mValueError\u001b[0m: left and right lengths differ: 2 != 3"
     ]
    }
   ],
   "source": [
    "Vector([1, 2]) * Vector([2, 3, 4])"
   ]
  },
  {
   "cell_type": "code",
   "execution_count": 157,
   "metadata": {},
   "outputs": [
    {
     "name": "stdout",
     "output_type": "stream",
     "text": [
      "[10, 15, 25, 40]\n"
     ]
    }
   ],
   "source": [
    "print(Vector([2, 3, 5, 8]) * 5)"
   ]
  },
  {
   "attachments": {},
   "cell_type": "markdown",
   "metadata": {},
   "source": [
    "### Задание 11"
   ]
  },
  {
   "attachments": {},
   "cell_type": "markdown",
   "metadata": {},
   "source": [
    "Магические методы: вектор (4/4)\n",
    "Последние штрихи для нашего вектора.\n",
    "\n",
    "Добавьте в класс возможности сравнивать два вектора между собой и считать ***abs*** (это длина вектора, в Евклидовой метрике).\n",
    "\n",
    "```python\n",
    "abs(Vector([-12, 5]))  \n",
    "# Должно быть 13\n",
    "\n",
    "Vector([1, 3, 5]) == Vector([1])  \n",
    "# False\n",
    "Vector([1, 3, 5]) == Vector([-1, 3, 5])  \n",
    "# False\n",
    "Vector([1, 3, 5]) == Vector([1, 3, 5])  \n",
    "# True\n",
    "```\n",
    "\n",
    "По итогу мы получим вектора, которые можно складывать, умножать, печатать, считать длину и сравнивать на равенство друг с другом."
   ]
  },
  {
   "cell_type": "code",
   "execution_count": 158,
   "metadata": {},
   "outputs": [],
   "source": [
    "class Vector:\n",
    "\n",
    "    def __init__(self, coords):\n",
    "        self.coords = coords\n",
    "\n",
    "    def __add__(self, other):\n",
    "        if len(self.coords) == len(other.coords):\n",
    "            for i in range(len(self.coords)): self.coords[i] += other.coords[i]\n",
    "        else:\n",
    "            raise ValueError(f'left and right lengths differ: {len(self.coords)} != {len(other.coords)}')\n",
    "        return Vector(self.coords)\n",
    "\n",
    "    def __mul__(self, other):\n",
    "        if isinstance(self, Vector) and isinstance(other, Vector):\n",
    "            if len(self.coords) == len(other.coords):\n",
    "                mul = 0\n",
    "                for i in range(len(self.coords)): mul += (self.coords[i] * other.coords[i])\n",
    "                return mul\n",
    "            else:\n",
    "                raise ValueError(f'left and right lengths differ: {len(self.coords)} != {len(other.coords)}')\n",
    "        else:\n",
    "            mul = []\n",
    "            for i in range(len(self.coords)): mul.append(self.coords[i] * other)\n",
    "            return Vector(mul)\n",
    "\n",
    "    def __eq__(self, other):\n",
    "        return self.coords == other.coords\n",
    "\n",
    "    def __abs__(self):\n",
    "        s = 0\n",
    "        for i in range(len(self.coords)):\n",
    "            s += self.coords[i]**2\n",
    "        return s**0.5\n",
    "\n",
    "    def __str__(self):\n",
    "        return f'{self.coords}'"
   ]
  },
  {
   "cell_type": "code",
   "execution_count": 161,
   "metadata": {},
   "outputs": [
    {
     "name": "stdout",
     "output_type": "stream",
     "text": [
      "\n",
      "13.0\n",
      "\n",
      "False\n",
      "False\n",
      "True\n"
     ]
    }
   ],
   "source": [
    "print(f'''\n",
    "{abs(Vector([-12, 5]))}\n",
    "\n",
    "{Vector([1, 3, 5]) == Vector([1])}\n",
    "{Vector([1, 3, 5]) == Vector([-1, 3, 5])}\n",
    "{Vector([1, 3, 5]) == Vector([1, 3, 5])}''')"
   ]
  },
  {
   "attachments": {},
   "cell_type": "markdown",
   "metadata": {},
   "source": [
    "### Задание 12"
   ]
  },
  {
   "attachments": {},
   "cell_type": "markdown",
   "metadata": {},
   "source": [
    "Множественное наследование (1/3)\n",
    "\n",
    "Попробуем сделать множественное наследование аккуратно и так, как его обычно делают в популярных библиотеках.\n",
    "\n",
    "Обычно множественное наследование используют в т.н. ***Mixins. Mixin*** (рус. миксины) - это класс, не имеющий полей и имеющий один или более не абстрактных методов (т.е. методов с реализацией). Обычно миксины используют для того, чтобы модульно раздавать различные функциональности различным объектам.\n",
    "\n",
    "Вас перевели из тех.директора сложного проекта в бекенд-разработчика. Встала задача разработать класс, которому на вход будет приходить разобранный запрос от пользователя. Запрос имеет вид:\n",
    "\n",
    "```python\n",
    "# будет приходить запрос в виде словаря\n",
    "request = {\n",
    "  \"cookies\": {key_1: value_1, key_2: value_2, ...},\n",
    "  \"body\": \"a long time ago, in a Galaxy far, far away\",\n",
    "  \"headers\": {\"content-type\": \"application/json\", \"Accept\": \"application/json\"}\n",
    "}\n",
    "\n",
    "# и этот словарь будет передаваться в конструктор класса\n",
    "handler = Handler(request)\n",
    "```\n",
    "\n",
    "Разным классам в приложении потребуется разная функциональность: кому-то потребуется проверять, есть ли в ***headers*** ключ ***\"Accept\"***, кому-то потребуется читать ***body***, а кому-то понадобится проверять пустоту ***cookies***. Будут и классы, которым потребуется несколько возможностей сразу.\n",
    "\n",
    "Напишите классы ***ParsesCookies***, ***ParsesBody***, ***ParsesHeaders*** по условиям:\n",
    "1. Класс ***ParsesCookies*** имеет метод ***cookies()***, возвращающий все по ключу ***cookies*** из словаря ***self.request***.\n",
    "2. Класс ***ParsesCookies*** имеет метод ***is_authed()***, который будет проверять, что в словаре ***cookies*** будет ключ ***auth_key*** (ни в коем случае не используйте такую авторизацию в реальных проектах).\n",
    "3. Класс ***ParsesBody*** имеет метод ***body()***, возвращающий текст по ключу ***body*** в ***self.request***.\n",
    "4. Класс ***ParsesHeaders*** имеет метод ***headers()***, возвращающий все по ключу ***headers*** из словаря ***self.request***.\n",
    "5. Класс ***ParsesHeaders*** имеет метод ***need_json()***, который возвращает ***True***, если в ***headers*** по ключу ***\"content-type\"*** лежит значение ***\"application/json\"***, иначе ***False***."
   ]
  },
  {
   "cell_type": "code",
   "execution_count": 162,
   "metadata": {},
   "outputs": [],
   "source": [
    "class Handler:\n",
    "    def __init__(self, request):\n",
    "        self.request = request\n",
    "\n",
    "class ParsesCookies(Handler):\n",
    "    def cookies(self):\n",
    "        return self.request['cookies']\n",
    "    def is_authed(self):\n",
    "        return 'auth_key' in self.request['cookies'].keys()\n",
    "        \n",
    "class ParsesBody(Handler):\n",
    "    def body(self):\n",
    "        return self.request['body']\n",
    "\n",
    "class ParsesHeaders(Handler):\n",
    "    def headers(self):\n",
    "        return self.request['headers']\n",
    "    def need_json(self):\n",
    "        return self.request['headers'].get('content-type') == 'application/json'\n",
    "\n",
    "\n",
    "\n",
    "request_1 = {\n",
    "    \"cookies\": {'key_1': 'value_1', 'key_2': 'value_2'},\n",
    "    \"body\": \"A long time ago, in a Galaxy far, far away\",\n",
    "    \"headers\": {\"content-type\": \"application/json\", \"Accept\": \"application/json\"}\n",
    "}\n",
    "\n",
    "request_2 = {\n",
    "    \"cookies\": {'auth_key': 'value_3', 'key_4': 'value_4'},\n",
    "    \"body\": \"The Dark Side clouds everything. Impossible to see, the future is\",\n",
    "    \"headers\": {\"content-type\": \"NOT application/json\", \"Accept\": \"NOT application/json\"}\n",
    "}"
   ]
  },
  {
   "cell_type": "code",
   "execution_count": 163,
   "metadata": {},
   "outputs": [
    {
     "name": "stdout",
     "output_type": "stream",
     "text": [
      "cookies:\n",
      "{'key_1': 'value_1', 'key_2': 'value_2'}\n",
      "{'auth_key': 'value_3', 'key_4': 'value_4'}\n",
      "\n",
      "is_authed:\n",
      "False\n",
      "True\n",
      "\n"
     ]
    }
   ],
   "source": [
    "print(f'''cookies:\n",
    "{ParsesCookies(request_1).cookies()}\n",
    "{ParsesCookies(request_2).cookies()}\n",
    "\n",
    "is_authed:\n",
    "{ParsesCookies(request_1).is_authed()}\n",
    "{ParsesCookies(request_2).is_authed()}\n",
    "''')"
   ]
  },
  {
   "cell_type": "code",
   "execution_count": 164,
   "metadata": {},
   "outputs": [
    {
     "name": "stdout",
     "output_type": "stream",
     "text": [
      "body:\n",
      "A long time ago, in a Galaxy far, far away\n",
      "The Dark Side clouds everything. Impossible to see, the future is\n",
      "\n"
     ]
    }
   ],
   "source": [
    "print(f'''body:\n",
    "{ParsesBody(request_1).body()}\n",
    "{ParsesBody(request_2).body()}\n",
    "''')"
   ]
  },
  {
   "cell_type": "code",
   "execution_count": 165,
   "metadata": {},
   "outputs": [
    {
     "name": "stdout",
     "output_type": "stream",
     "text": [
      "cookies:\n",
      "{'content-type': 'application/json', 'Accept': 'application/json'}\n",
      "{'content-type': 'NOT application/json', 'Accept': 'NOT application/json'}\n",
      "\n",
      "is_authed:\n",
      "True\n",
      "False\n",
      "\n"
     ]
    }
   ],
   "source": [
    "print(f'''cookies:\n",
    "{ParsesHeaders(request_1).headers()}\n",
    "{ParsesHeaders(request_2).headers()}\n",
    "\n",
    "is_authed:\n",
    "{ParsesHeaders(request_1).need_json()}\n",
    "{ParsesHeaders(request_2).need_json()}\n",
    "''')"
   ]
  },
  {
   "attachments": {},
   "cell_type": "markdown",
   "metadata": {},
   "source": [
    "### Задание 13"
   ]
  },
  {
   "attachments": {},
   "cell_type": "markdown",
   "metadata": {},
   "source": [
    "Множественное наследование (2/3)\n",
    "\n",
    "Используя миксины из прошлого пункта, напишите класс ***JsonHandler***, который будет наследоваться от классов ***ParsesBody и ParsesHeaders*** , иметь метод ***process()*** и конструктор, принимающий аргумент ***request*** и сохраняющий в ***self.request***. В этом задании нужно использовать библиотеку ***json***.\n",
    "\n",
    "Метод ***process()*** должен работать следующим образом:\n",
    "\n",
    "1. Если ***need_json()*** дает ***False***, то возвращать ***None***\n",
    "2. Иначе получать тело через ***body()***, пытаться считать его как ***json.loads(...)*** и возвращать число ключей в словаре. Если считать не удалось, то вернуть ***None***.\n",
    "\n",
    "Отправьте реализацию класса JsonHandler в LMS. Классы ParsesBody и ParsesHeaders отправлять не нужно.\n",
    "\n",
    "Обратите внимание, что с помощью миксин функциональность проверки headers и получения body была вынесена за JsonHandler - наш класс сосредоточился именно на обработке.\n",
    "\n",
    "```python\n",
    "# Пример использования\n",
    "r = {'body': '{\"a\": 123, \"b\": 1234}',\n",
    "     'headers': {'content-type': 'application/json'}\n",
    "    }\n",
    "print(JsonHandler(r).process())\n",
    "```"
   ]
  },
  {
   "cell_type": "code",
   "execution_count": 166,
   "metadata": {},
   "outputs": [],
   "source": [
    "class Handler:\n",
    "    def __init__(self, request):\n",
    "        self.request = request\n",
    "\n",
    "class ParsesCookies(Handler):\n",
    "    def cookies(self):\n",
    "        return self.request['cookies']\n",
    "    def is_authed(self):\n",
    "        return 'auth_key' in self.request['cookies'].keys()\n",
    "        \n",
    "class ParsesBody(Handler):\n",
    "    def body(self):\n",
    "        return self.request['body']\n",
    "\n",
    "class ParsesHeaders(Handler):\n",
    "    def headers(self):\n",
    "        return self.request['headers']\n",
    "    def need_json(self):\n",
    "        return self.request['headers'].get('content-type') == 'application/json'"
   ]
  },
  {
   "cell_type": "code",
   "execution_count": 167,
   "metadata": {},
   "outputs": [],
   "source": [
    "import json\n",
    "\n",
    "class JsonHandler(ParsesBody,ParsesHeaders):\n",
    "    def __init__(self, request):\n",
    "        self.request = request\n",
    "    \n",
    "    def process(self):\n",
    "        if self.need_json():\n",
    "            try:\n",
    "                dic = json.loads(self.body())\n",
    "                return len(dic)\n",
    "            except:\n",
    "                return None\n",
    "        else:\n",
    "            return None"
   ]
  },
  {
   "cell_type": "code",
   "execution_count": 168,
   "metadata": {},
   "outputs": [
    {
     "name": "stdout",
     "output_type": "stream",
     "text": [
      "2\n"
     ]
    }
   ],
   "source": [
    "r = {\n",
    "    'body': '{\"a\": 123, \"b\": 1234}',\n",
    "     'headers': {'content-type': 'application/json'}\n",
    "    }\n",
    "\n",
    "print(JsonHandler(r).process())"
   ]
  },
  {
   "attachments": {},
   "cell_type": "markdown",
   "metadata": {},
   "source": [
    "### Задание 14"
   ]
  },
  {
   "attachments": {},
   "cell_type": "markdown",
   "metadata": {},
   "source": [
    "Множественное наследование (3/3)\n",
    "\n",
    "Используя миксины из прошлого пункта, напишите класс ***SecureTextHandler***, который будет наследоваться от классов ***ParsesBody, ParsesHeaders и ParsesCookies***, иметь метод ***process()*** и конструктор, принимающий один аргумент и сохраняющий его в нужное поле класса.\n",
    "\n",
    "Метод ***process()*** должен работать следующим образом:\n",
    "1. Если ***is_authed()*** дает ***False***, то возвращать ***None***.\n",
    "1. Иначе получать тело через ***body()*** и возвращать его длину.\n",
    "\n",
    "Добейтесь работоспособности на примере и реализацию класса SecureTextHandler отправьте в LMS. Классы ParsesBody и ParsesHeaders, ParsesCookie отправлять не нужно.\n",
    "\n",
    "```python\n",
    "# Примеры\n",
    "r = {'cookies': {'auth_key': '123'},\n",
    "     'body': 'hello'\n",
    "    }\n",
    "print(SecureTextHandler(r).process())\n",
    "# 5\n",
    "\n",
    "r = {'cookies': {},\n",
    "     'body': 'hello'\n",
    "    }\n",
    "print(SecureTextHandler(r).process())\n",
    "# None\n",
    "```"
   ]
  },
  {
   "cell_type": "code",
   "execution_count": 144,
   "metadata": {},
   "outputs": [],
   "source": [
    "class SecureTextHandler(ParsesBody, ParsesCookies, ParsesHeaders):\n",
    "    def __init__(self, request):\n",
    "        self.request = request\n",
    "\n",
    "    def process(self):\n",
    "        if self.is_authed():\n",
    "            return len(self.body())\n",
    "        else:\n",
    "            return None"
   ]
  },
  {
   "cell_type": "code",
   "execution_count": 145,
   "metadata": {},
   "outputs": [
    {
     "name": "stdout",
     "output_type": "stream",
     "text": [
      "5\n"
     ]
    }
   ],
   "source": [
    "r = {'cookies': {'auth_key': '123'},\n",
    "     'body': 'hello'\n",
    "    }\n",
    "print(SecureTextHandler(r).process())\n",
    "# 5"
   ]
  },
  {
   "cell_type": "code",
   "execution_count": 146,
   "metadata": {},
   "outputs": [
    {
     "name": "stdout",
     "output_type": "stream",
     "text": [
      "None\n"
     ]
    }
   ],
   "source": [
    "r = {'cookies': {},\n",
    "     'body': 'hello'\n",
    "    }\n",
    "print(SecureTextHandler(r).process())\n",
    "# None"
   ]
  }
 ],
 "metadata": {
  "kernelspec": {
   "display_name": "Python 3",
   "language": "python",
   "name": "python3"
  },
  "language_info": {
   "codemirror_mode": {
    "name": "ipython",
    "version": 3
   },
   "file_extension": ".py",
   "mimetype": "text/x-python",
   "name": "python",
   "nbconvert_exporter": "python",
   "pygments_lexer": "ipython3",
   "version": "3.9.13"
  },
  "orig_nbformat": 4,
  "vscode": {
   "interpreter": {
    "hash": "c9e369fd939574eb556aa51f29550d548e28be857f924fa9c2e754f086740f28"
   }
  }
 },
 "nbformat": 4,
 "nbformat_minor": 2
}
