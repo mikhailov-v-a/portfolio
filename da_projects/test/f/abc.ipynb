{
 "cells": [
  {
   "attachments": {},
   "cell_type": "markdown",
   "metadata": {},
   "source": [
    "## ABC анализ\n",
    "- 3 сгенерированных файла с рандомными *int* значениями из диапазона от *1'500* до *2'500'000* (рамер файлов: *100'000 x 3*)\n",
    "- Время скрипта по всем файлам *~ 37с*\n",
    "\n",
    "### Readme\n",
    "1. Перед новым запуском удалить из папки предидущий `abc.xlsx`\n",
    "2. При формировании выгрузки `Не показывать итоговые значения`\n",
    "3. Сохранить выгрузки в формате `.xlsx` в папку к  `abc.ipynb`\n",
    "4. Открыть `abc.ipynb`, запустить все\n",
    "5. Финальный `abc.xlsx` сохраняется в папку к `abc.ipynb`, разбит на листы по именам выгрузок\n",
    "\n",
    "**Файлы выгрузки:**\n",
    "|Код|Номенклатура|Сумма продажи в руб.|\n",
    "|:-:|:-:|:-:|\n",
    "|...|...|...|\n",
    "\n",
    "**АВС файл:**\n",
    "|Код|Номенклатура|Категория|\n",
    "|:-:|:-:|:-:|\n",
    "|...|...|A|\n",
    "|...|...|B|\n",
    "|...|...|C|\n",
    "\n",
    "### Библиотеки:\n",
    "* `!pip install pandas, numpy, os, openpyxl`"
   ]
  },
  {
   "cell_type": "code",
   "execution_count": 9,
   "metadata": {},
   "outputs": [],
   "source": [
    "import os\n",
    "import pandas as pd\n",
    "import numpy as np\n",
    "\n",
    "from time import perf_counter\n",
    "start = perf_counter()"
   ]
  },
  {
   "cell_type": "code",
   "execution_count": 10,
   "metadata": {},
   "outputs": [],
   "source": [
    "# Функция для АВС (df in, df out)\n",
    "def abc(df):\n",
    "    df.sort_values(by=['Сумма продажи в руб.'], ascending=False, inplace=True)\n",
    "\n",
    "    df['Доля с накоплением'] = (np.divide(df['Сумма продажи в руб.'],df['Сумма продажи в руб.'].sum())).cumsum()\n",
    "    \n",
    "    df[\"Категория\"] = ''\n",
    "    df.loc[df['Доля с накоплением'] < 0.8,'Категория' ] = 'A'\n",
    "    df.loc[(df['Доля с накоплением'] > 0.8) & (df['Доля с накоплением'] < 0.95),'Категория' ] = 'B'\n",
    "    df.loc[df['Доля с накоплением'] > 0.95,'Категория' ] = 'C'\n",
    "    \n",
    "    # Для проверки разделения на группы - закоментить\n",
    "    df.drop(columns=['Доля с накоплением', 'Сумма продажи в руб.'], inplace=True) \n",
    "\n",
    "    return df"
   ]
  },
  {
   "cell_type": "code",
   "execution_count": 11,
   "metadata": {},
   "outputs": [],
   "source": [
    "# Сбор имен файлов xlsx из текущей папки\n",
    "files_names = []\n",
    "exp = '.xlsx'\n",
    "for name in (os.listdir('.')):\n",
    "    if exp in name:\n",
    "        files_names.append(name.replace(exp, ''))\n",
    "    else:\n",
    "        continue\n",
    "#files_names"
   ]
  },
  {
   "cell_type": "code",
   "execution_count": 12,
   "metadata": {},
   "outputs": [
    {
     "name": "stdout",
     "output_type": "stream",
     "text": [
      "78.6163325\n"
     ]
    }
   ],
   "source": [
    "with pd.ExcelWriter(\"abc.xlsx\") as writer:\n",
    "    for name in files_names:\n",
    "        df = pd.read_excel(f'{name}{exp}', index_col=0)\n",
    "        df = abc(df)\n",
    "# Coхранение\n",
    "        df.to_excel(writer, sheet_name=name, index=False)\n",
    "\n",
    "print(perf_counter() - start)"
   ]
  }
 ],
 "metadata": {
  "kernelspec": {
   "display_name": "Python 3",
   "language": "python",
   "name": "python3"
  },
  "language_info": {
   "codemirror_mode": {
    "name": "ipython",
    "version": 3
   },
   "file_extension": ".py",
   "mimetype": "text/x-python",
   "name": "python",
   "nbconvert_exporter": "python",
   "pygments_lexer": "ipython3",
   "version": "3.9.13"
  },
  "orig_nbformat": 4,
  "vscode": {
   "interpreter": {
    "hash": "c9e369fd939574eb556aa51f29550d548e28be857f924fa9c2e754f086740f28"
   }
  }
 },
 "nbformat": 4,
 "nbformat_minor": 2
}
