{
 "cells": [
  {
   "attachments": {},
   "cell_type": "markdown",
   "metadata": {},
   "source": [
    "## Описание\n",
    "\n",
    "На этот раз данные имеют следующую структуру:\n",
    "\n",
    "* записываются для каждого пользователя, совершившего покупки, каждый день\n",
    "* для каждой даты есть своя папка, внутри неё – папки для каждого пользователя\n",
    "* внутри каждой папки есть файл data.csv, где и хранятся данные\n",
    "\n",
    "Схематично выглядит так:\n",
    "```\n",
    "└── data\n",
    "   ├── 2020-12-30   \n",
    "   │  ├── FirstName_LastName1   \n",
    "   │  │   └── data.csv  \n",
    "   │  ├── FirstName_LastName2   \n",
    "   │  │   └── data.csv  \n",
    "   │  └── FirstName_LastName3   \n",
    "   │      └── data.csv   \n",
    "   └── 2020-12-31   \n",
    "      ├── FirstName_LastName1      \n",
    "      │   └── data.csv      \n",
    "      └── FirstName_LastName5      \n",
    "          └── data.csv\n",
    "```      \n",
    "Например, 30 декабря три покупателя сделали покупки, 31 – два \n",
    "(папки 2020-12-30 и 2020-12-31 соответственно). Поскольку клиент FirstName_LastName1 купил товары в оба дня, для него имеется папка в папке для каждой из дат. Для других клиентов – по одной.\n",
    "\n",
    "*Данные в задании покрывают другой временной период, имена тоже другие. Подробности, примеры и возможные подсказки можно найти в текстах следующих шагов.*"
   ]
  },
  {
   "attachments": {},
   "cell_type": "markdown",
   "metadata": {},
   "source": [
    "### Задание 1"
   ]
  },
  {
   "attachments": {},
   "cell_type": "markdown",
   "metadata": {},
   "source": [
    "Соберите все данные из папки data в один датафрэйм, имеющий следующие столбцы: колонки из самих файлов (product_id, quantity), имя пользователя (name), и дату этих покупок (date), соответствует названию папки, где лежит папка с пользователем)\n",
    "\n",
    "Пример итоговой таблицы:\n",
    "\n",
    "product_id | quantity  |  name      |       date\n",
    "-----------|-----------|------------|------------\n",
    "0   |    56     |     2     |    Anatoly_Karpov |  2020-12-30\n",
    "1   |    7     |      2    |     Anatoly_Karpov |  2020-12-30\n",
    "2   |    9     |      3     |    Anatoly_Karpov  | 2020-12-30\n",
    "\n",
    "Для объединения датафреймов, читаемых из файлов, можно использовать метод pd.concat(). Например:\n",
    "\n",
    "1. Имеются следующие данные:\n",
    "\n",
    "**df_1:**\n",
    "\n",
    "product_id | quantity  |  name        |       date\n",
    "---------|----------|-------------|---------------|\n",
    "0   |    56     |     2    |     Anatoly_Karpov   |  2020-12-30\n",
    "1    |   7      |     2      |   Anatoly_Karpov    | 2020-12-30\n",
    "2   |    9     |      3     |    Anatoly_Karpov    | 2020-12-30\n",
    "\n",
    "**df_2:**\n",
    "\n",
    "product_id | quantity  |  name        |       date\n",
    "----------|------------|-------------|-------------- \n",
    "0   |    4       |    2     |    Кatya_Skriptsova  | 2020-12-30\n",
    "1    |   71     |     1     |    Кatya_Skriptsova  | 2020-12-31\n",
    "\n",
    "2. Соединяем, передав pd.concat на вход список датафреймов, которые нужно объединить. Обратите внимание: индексы повторяются, поэтому после соединения всех данных нужно их сбросить.\n",
    "```python\n",
    "df = pd.concat([df_1, df_2])\n",
    "```\n",
    "\n",
    "**df:**\n",
    "\n",
    "product_id | quantity  |  name     |           date\n",
    "---------|-------------|----------|-------------------|\n",
    "0    |   56      |    2      |   Anatoly_Karpov   |   2020-12-30\n",
    "1    |   7       |    2      |   Anatoly_Karpov   |   2020-12-30\n",
    "2    |   9     |      3    |     Anatoly_Karpov   |   2020-12-30\n",
    "0   |    4     |      2    |     Кatya_Skriptsova   | 2020-12-30\n",
    "1   |    71     |     1     |    Кatya_Skriptsova  |  2020-12-31\n",
    "\n",
    "В качестве ответа укажите сумму по колонке quantity\n"
   ]
  },
  {
   "cell_type": "code",
   "execution_count": 1,
   "metadata": {},
   "outputs": [],
   "source": [
    "import pandas as pd\n",
    "import os\n",
    "import warnings\n",
    "warnings.filterwarnings(\"ignore\")"
   ]
  },
  {
   "cell_type": "code",
   "execution_count": 2,
   "metadata": {},
   "outputs": [
    {
     "data": {
      "text/html": [
       "<div>\n",
       "<style scoped>\n",
       "    .dataframe tbody tr th:only-of-type {\n",
       "        vertical-align: middle;\n",
       "    }\n",
       "\n",
       "    .dataframe tbody tr th {\n",
       "        vertical-align: top;\n",
       "    }\n",
       "\n",
       "    .dataframe thead th {\n",
       "        text-align: right;\n",
       "    }\n",
       "</style>\n",
       "<table border=\"1\" class=\"dataframe\">\n",
       "  <thead>\n",
       "    <tr style=\"text-align: right;\">\n",
       "      <th></th>\n",
       "      <th>product_id</th>\n",
       "      <th>quantity</th>\n",
       "      <th>name</th>\n",
       "      <th>date</th>\n",
       "    </tr>\n",
       "  </thead>\n",
       "  <tbody>\n",
       "    <tr>\n",
       "      <th>0</th>\n",
       "      <td>47</td>\n",
       "      <td>1</td>\n",
       "      <td>Alexey_Smirnov</td>\n",
       "      <td>2020-12-03</td>\n",
       "    </tr>\n",
       "    <tr>\n",
       "      <th>1</th>\n",
       "      <td>57</td>\n",
       "      <td>1</td>\n",
       "      <td>Alexey_Smirnov</td>\n",
       "      <td>2020-12-03</td>\n",
       "    </tr>\n",
       "    <tr>\n",
       "      <th>2</th>\n",
       "      <td>14</td>\n",
       "      <td>2</td>\n",
       "      <td>Alexey_Smirnov</td>\n",
       "      <td>2020-12-03</td>\n",
       "    </tr>\n",
       "    <tr>\n",
       "      <th>3</th>\n",
       "      <td>52</td>\n",
       "      <td>1</td>\n",
       "      <td>Alexey_Smirnov</td>\n",
       "      <td>2020-12-03</td>\n",
       "    </tr>\n",
       "    <tr>\n",
       "      <th>4</th>\n",
       "      <td>1</td>\n",
       "      <td>4</td>\n",
       "      <td>Alexey_Smirnov</td>\n",
       "      <td>2020-12-03</td>\n",
       "    </tr>\n",
       "  </tbody>\n",
       "</table>\n",
       "</div>"
      ],
      "text/plain": [
       "   product_id  quantity            name        date\n",
       "0          47         1  Alexey_Smirnov  2020-12-03\n",
       "1          57         1  Alexey_Smirnov  2020-12-03\n",
       "2          14         2  Alexey_Smirnov  2020-12-03\n",
       "3          52         1  Alexey_Smirnov  2020-12-03\n",
       "4           1         4  Alexey_Smirnov  2020-12-03"
      ]
     },
     "execution_count": 2,
     "metadata": {},
     "output_type": "execute_result"
    }
   ],
   "source": [
    "root_path = 'D:/portfolio/da_projects/edu/python_mini_projects/3/3.1/data/'\n",
    "df_list = []\n",
    "\n",
    "for date in os.listdir(root_path):\n",
    "    for name in os.listdir(root_path + date):\n",
    "        if name.startswith('.'):\n",
    "            continue\n",
    "        file_path = f'{root_path}{date}/{name}/data.csv'\n",
    "        t_df = pd.read_csv(file_path, sep = ',', index_col = 0)\n",
    "        t_df['name'], t_df['date'] = name, date\n",
    "        df_list.append(t_df)\n",
    "df = pd.concat(df_list).reset_index().drop('index', 1)\n",
    "\n",
    "df.head()"
   ]
  },
  {
   "attachments": {},
   "cell_type": "markdown",
   "metadata": {},
   "source": [
    "### Задание 2"
   ]
  },
  {
   "attachments": {},
   "cell_type": "markdown",
   "metadata": {},
   "source": [
    "Выясните, какой пользователь купил больше всего товаров. Если их несколько, то перечислите имена через запятую с пробелом и в алфавитном порядке. \n",
    "\n",
    "Например: *Anatoly_Karpov, Nekto_Ktotovich, Lena_Uhanova, Ignat, Sasha_Tokarev*"
   ]
  },
  {
   "cell_type": "code",
   "execution_count": 3,
   "metadata": {},
   "outputs": [
    {
     "data": {
      "text/plain": [
       "Index(['Alexey_Smirnov', 'Petr_Smirnov'], dtype='object', name='name')"
      ]
     },
     "execution_count": 3,
     "metadata": {},
     "output_type": "execute_result"
    }
   ],
   "source": [
    "purchased_quantity = df.groupby('name')['quantity'].sum()\n",
    "\n",
    "purchased_quantity.loc[purchased_quantity == purchased_quantity.max()]\\\n",
    "                .index.sort_values()\n"
   ]
  },
  {
   "attachments": {},
   "cell_type": "markdown",
   "metadata": {},
   "source": [
    "Ответ: Alexey_Smirnov, Petr_Smirnov"
   ]
  },
  {
   "attachments": {},
   "cell_type": "markdown",
   "metadata": {},
   "source": [
    "### Задание 3"
   ]
  },
  {
   "attachments": {},
   "cell_type": "markdown",
   "metadata": {},
   "source": [
    "Найдите топ-10 товаров по числу проданных единиц за всё время и постройте барплот (столбчатую диаграмму, sns.barplot), где:\n",
    "\n",
    "* по оси x – идентификаторы товаров (product_id) \n",
    "* по оси y – суммарное число их покупок (сколько товаров с таким product_id было продано)\n",
    "\n",
    "В качестве ответа укажите, сколько было продано единиц товара с product_id равным 56"
   ]
  },
  {
   "cell_type": "code",
   "execution_count": 4,
   "metadata": {},
   "outputs": [],
   "source": [
    "import seaborn as sns\n",
    "import matplotlib.pyplot as plt"
   ]
  },
  {
   "cell_type": "code",
   "execution_count": 5,
   "metadata": {},
   "outputs": [
    {
     "data": {
      "text/html": [
       "<div>\n",
       "<style scoped>\n",
       "    .dataframe tbody tr th:only-of-type {\n",
       "        vertical-align: middle;\n",
       "    }\n",
       "\n",
       "    .dataframe tbody tr th {\n",
       "        vertical-align: top;\n",
       "    }\n",
       "\n",
       "    .dataframe thead th {\n",
       "        text-align: right;\n",
       "    }\n",
       "</style>\n",
       "<table border=\"1\" class=\"dataframe\">\n",
       "  <thead>\n",
       "    <tr style=\"text-align: right;\">\n",
       "      <th></th>\n",
       "      <th>product_id</th>\n",
       "      <th>quantity</th>\n",
       "    </tr>\n",
       "  </thead>\n",
       "  <tbody>\n",
       "    <tr>\n",
       "      <th>22</th>\n",
       "      <td>27</td>\n",
       "      <td>20</td>\n",
       "    </tr>\n",
       "    <tr>\n",
       "      <th>42</th>\n",
       "      <td>56</td>\n",
       "      <td>18</td>\n",
       "    </tr>\n",
       "    <tr>\n",
       "      <th>21</th>\n",
       "      <td>24</td>\n",
       "      <td>15</td>\n",
       "    </tr>\n",
       "    <tr>\n",
       "      <th>51</th>\n",
       "      <td>74</td>\n",
       "      <td>15</td>\n",
       "    </tr>\n",
       "    <tr>\n",
       "      <th>32</th>\n",
       "      <td>41</td>\n",
       "      <td>14</td>\n",
       "    </tr>\n",
       "    <tr>\n",
       "      <th>27</th>\n",
       "      <td>34</td>\n",
       "      <td>13</td>\n",
       "    </tr>\n",
       "    <tr>\n",
       "      <th>66</th>\n",
       "      <td>94</td>\n",
       "      <td>13</td>\n",
       "    </tr>\n",
       "    <tr>\n",
       "      <th>46</th>\n",
       "      <td>66</td>\n",
       "      <td>13</td>\n",
       "    </tr>\n",
       "    <tr>\n",
       "      <th>65</th>\n",
       "      <td>92</td>\n",
       "      <td>12</td>\n",
       "    </tr>\n",
       "    <tr>\n",
       "      <th>38</th>\n",
       "      <td>50</td>\n",
       "      <td>12</td>\n",
       "    </tr>\n",
       "  </tbody>\n",
       "</table>\n",
       "</div>"
      ],
      "text/plain": [
       "    product_id  quantity\n",
       "22          27        20\n",
       "42          56        18\n",
       "21          24        15\n",
       "51          74        15\n",
       "32          41        14\n",
       "27          34        13\n",
       "66          94        13\n",
       "46          66        13\n",
       "65          92        12\n",
       "38          50        12"
      ]
     },
     "execution_count": 5,
     "metadata": {},
     "output_type": "execute_result"
    }
   ],
   "source": [
    "sold = df.groupby('product_id', as_index=False)['quantity'].sum()\n",
    "sold = sold.sort_values('quantity', ascending=False).head(10)\n",
    "sold"
   ]
  },
  {
   "cell_type": "code",
   "execution_count": 6,
   "metadata": {},
   "outputs": [
    {
     "data": {
      "text/plain": [
       "<AxesSubplot:xlabel='product_id', ylabel='quantity'>"
      ]
     },
     "execution_count": 6,
     "metadata": {},
     "output_type": "execute_result"
    },
    {
     "data": {
      "image/png": "[encoded data removed]",
      "text/plain": [
       "<Figure size 432x288 with 1 Axes>"
      ]
     },
     "metadata": {
      "needs_background": "light"
     },
     "output_type": "display_data"
    }
   ],
   "source": [
    "sns.barplot(data=sold, x='product_id', y='quantity',\n",
    "            order=sold.sort_values('quantity')['product_id'])"
   ]
  },
  {
   "cell_type": "code",
   "execution_count": 7,
   "metadata": {},
   "outputs": [
    {
     "data": {
      "text/html": [
       "<div>\n",
       "<style scoped>\n",
       "    .dataframe tbody tr th:only-of-type {\n",
       "        vertical-align: middle;\n",
       "    }\n",
       "\n",
       "    .dataframe tbody tr th {\n",
       "        vertical-align: top;\n",
       "    }\n",
       "\n",
       "    .dataframe thead th {\n",
       "        text-align: right;\n",
       "    }\n",
       "</style>\n",
       "<table border=\"1\" class=\"dataframe\">\n",
       "  <thead>\n",
       "    <tr style=\"text-align: right;\">\n",
       "      <th></th>\n",
       "      <th>product_id</th>\n",
       "      <th>quantity</th>\n",
       "    </tr>\n",
       "  </thead>\n",
       "  <tbody>\n",
       "    <tr>\n",
       "      <th>42</th>\n",
       "      <td>56</td>\n",
       "      <td>18</td>\n",
       "    </tr>\n",
       "  </tbody>\n",
       "</table>\n",
       "</div>"
      ],
      "text/plain": [
       "    product_id  quantity\n",
       "42          56        18"
      ]
     },
     "execution_count": 7,
     "metadata": {},
     "output_type": "execute_result"
    }
   ],
   "source": [
    "sold.loc[sold['product_id'] == 56]"
   ]
  },
  {
   "attachments": {},
   "cell_type": "markdown",
   "metadata": {},
   "source": [
    "Ответ: 18"
   ]
  },
  {
   "attachments": {},
   "cell_type": "markdown",
   "metadata": {},
   "source": [
    "### Задание 4"
   ]
  },
  {
   "attachments": {},
   "cell_type": "markdown",
   "metadata": {},
   "source": [
    "Посмотрим на продажи по дням! Для визуализации снова используйте барплот, только теперь по оси x будут дни, по которым у нас есть данные (date). Далее выберите верные утверждения:\n",
    "\n",
    "* Максимальное число товаров было продано 4 декабря\n",
    "* 5 декабря было куплено почти в три раза меньше товаров, чем в предыдущий день\n",
    "* 8 и 9 декабря было продано примерно одинаковое число товаров\n",
    "* Меньше всего продуктов было приобретено 4 декабря\n",
    "* 4 декабря было куплено почти в два раза больше товаров, чем в предыдущий день\n",
    "* Меньше всего товаров было приобретено 6 декабря\n",
    "* 5 декабря было куплено почти в два раза больше товаров, чем в предыдущий день\n",
    "* 7 декабря было куплено почти в два раза больше товаров, чем в предыдущий день"
   ]
  },
  {
   "cell_type": "code",
   "execution_count": 8,
   "metadata": {},
   "outputs": [
    {
     "data": {
      "text/plain": [
       "<AxesSubplot:xlabel='date', ylabel='quantity'>"
      ]
     },
     "execution_count": 8,
     "metadata": {},
     "output_type": "execute_result"
    },
    {
     "data": {
      "image/png": "[encoded data removed]",
      "text/plain": [
       "<Figure size 864x360 with 1 Axes>"
      ]
     },
     "metadata": {},
     "output_type": "display_data"
    }
   ],
   "source": [
    "quantity_by_date = df.groupby('date', as_index=False) \\\n",
    "                     .agg({'quantity' : 'sum'}) \\\n",
    "                     .sort_values('quantity', ascending=False) \n",
    "\n",
    "sns.set(rc={'figure.figsize':(12,5)})\n",
    "sns.barplot(x='date',\\\n",
    "            y='quantity',\\\n",
    "            order=['2020-12-03',\\\n",
    "                   '2020-12-04',\\\n",
    "                   '2020-12-05',\\\n",
    "                   '2020-12-06',\\\n",
    "                   '2020-12-07',\\\n",
    "                   '2020-12-08',\\\n",
    "                   '2020-12-09'],\\\n",
    "            data=quantity_by_date)"
   ]
  },
  {
   "attachments": {},
   "cell_type": "markdown",
   "metadata": {},
   "source": [
    "- Максимальное число товаров было продано 4 декабря\n",
    "- 8 и 9 декабря было продано примерно одинаковое число товаров\n",
    "- 4 декабря было куплено почти в два раза больше товаров, чем в предыдущий день\n",
    "- Меньше всего товаров было приобретено 6 декабря"
   ]
  },
  {
   "attachments": {},
   "cell_type": "markdown",
   "metadata": {},
   "source": [
    "### Задание 4"
   ]
  },
  {
   "attachments": {},
   "cell_type": "markdown",
   "metadata": {},
   "source": [
    "Сколько пользователей приобрели какой-либо товар повторно (более 1 раза)? Повтором будем считать покупку товара с одинаковым product_id, совершенную в разные дни\n",
    "\n",
    "*Например, пользователь Sasha Tsarev дважды приобрел товар 6. Поскольку покупка была совершена в один и тот же день, повторной в данном случае она считаться не будет. Katya Skriptsova также сделал две покупки товара 7, но в разные дни, поэтому этот случай засчитывается*\n",
    "    \n",
    "\n",
    "product_id | quantity  | name      |        date\n",
    "-----------|-----------|-----------|-----------\n",
    "25    |    2     |   Katya Skriptsova | 2020-12-05\n",
    "54      |   1      |  Olya Silyutina   | 2020-12-05\n",
    "7      |    4    |    Katya Skriptsova | 2020-12-05\n",
    "6      |    4     |   Sasha Tsarev   |   2020-12-06\n",
    "6     |     1     |   Sasha Tsarev    |  2020-12-06\n",
    "7       |   5      |  Katya Skriptsova | 2020-12-06 \n",
    "\n",
    "*Может пригодиться: .drop_duplicates()*"
   ]
  },
  {
   "cell_type": "code",
   "execution_count": 9,
   "metadata": {},
   "outputs": [
    {
     "data": {
      "text/plain": [
       "name            product_id\n",
       "Anton_Ivanov    15            2\n",
       "Petr_Fedorov    94            2\n",
       "Alexey_Fedorov  13            1\n",
       "Petr_Smirnov    21            1\n",
       "Petr_Petrov     64            1\n",
       "                             ..\n",
       "Anton_Smirnov   28            1\n",
       "                33            1\n",
       "                34            1\n",
       "                40            1\n",
       "Vasiliy_Petrov  78            1\n",
       "Name: date, Length: 158, dtype: int64"
      ]
     },
     "execution_count": 9,
     "metadata": {},
     "output_type": "execute_result"
    }
   ],
   "source": [
    "product = df.groupby(['name', 'product_id'])['date']\\\n",
    "            .nunique()\\\n",
    "            .sort_values(ascending=False)\n",
    "\n",
    "product"
   ]
  },
  {
   "cell_type": "code",
   "execution_count": 10,
   "metadata": {},
   "outputs": [
    {
     "data": {
      "text/plain": [
       "name          product_id\n",
       "Anton_Ivanov  15            2\n",
       "Petr_Fedorov  94            2\n",
       "Name: date, dtype: int64"
      ]
     },
     "execution_count": 10,
     "metadata": {},
     "output_type": "execute_result"
    }
   ],
   "source": [
    "product.loc[product > 1]"
   ]
  },
  {
   "cell_type": "code",
   "execution_count": 11,
   "metadata": {},
   "outputs": [
    {
     "name": "stdout",
     "output_type": "stream",
     "text": [
      "Ответ: 2\n"
     ]
    }
   ],
   "source": [
    "print(f\"Ответ: {product.loc[product > 1].count()}\")"
   ]
  }
 ],
 "metadata": {
  "kernelspec": {
   "display_name": "base",
   "language": "python",
   "name": "python3"
  },
  "language_info": {
   "codemirror_mode": {
    "name": "ipython",
    "version": 3
   },
   "file_extension": ".py",
   "mimetype": "text/x-python",
   "name": "python",
   "nbconvert_exporter": "python",
   "pygments_lexer": "ipython3",
   "version": "3.9.7"
  },
  "orig_nbformat": 4,
  "vscode": {
   "interpreter": {
    "hash": "f860bda7b0057455adb2acb421a5357a98cf7880ef24a45591ce44d615b1622b"
   }
  }
 },
 "nbformat": 4,
 "nbformat_minor": 2
}
