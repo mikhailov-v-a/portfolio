{
 "cells": [
  {
   "attachments": {},
   "cell_type": "markdown",
   "metadata": {},
   "source": [
    "## AB-тест\n",
    "Команда ML сделала некоторые новые алгоритмы рекомендации новостей в ленте. Ожидается, что новые алгоритмы сделают пользователей счастливее (удлиннится LTV, увеличится денежная конверсия и т.д.)\n",
    "Команда ML сказала, что чтобы посты стали интереснее было сделано 2 алгоритма:\n",
    "1. Показывает пользователям посты, похожие на понравившиеся\n",
    "2. Показывает пользователям посты, которые понравились похожим пользователям\n",
    "\n",
    "**Придумать показтель, увеличение которого будет говорить, что посты действительно стали интереснее**\n",
    "- Показателем выбрал **CTR из просмотров в лайки**, потому что есть явное действие, показывающее заинтересованность **(Лайк)**\n",
    "\n",
    "**Периоды проведения:**\n",
    "- АА-теста - с 2021-11-13 по 2021-11-15\n",
    "    + *В моём наборе нет данных за этот период, поэтому проведу АА-тест с 2021-11-16 по 2021-11-18 между двумя контрольными группами*\n",
    "- АБ-теста - с 2021-11-16 по 2021-11-18\n",
    "    + *Параллельно идут два теста:*\n",
    "        1. *exp_group = 1 - Все по-старому. exp_group = 2 - Рекомендации постов, похожих на лайкнутые*\n",
    "        2. *exp_group = 0 – Все по-старому. exp_group = 3 - Рекомендации постов, которые лайкали похожие люди*\n",
    "\n"
   ]
  },
  {
   "cell_type": "code",
   "execution_count": 1,
   "metadata": {},
   "outputs": [],
   "source": [
    "import numpy as np\n",
    "import pandas as pd\n",
    "import seaborn as sns\n",
    "import sqlite3\n",
    "import matplotlib.pyplot as plt\n",
    "import hashlib\n",
    "from scipy import stats\n",
    "%matplotlib inline"
   ]
  },
  {
   "cell_type": "code",
   "execution_count": 2,
   "metadata": {},
   "outputs": [],
   "source": [
    "con = sqlite3.connect('db')\n",
    "def query(sql):\n",
    "    return pd.read_sql(sql, con)"
   ]
  },
  {
   "attachments": {},
   "cell_type": "markdown",
   "metadata": {},
   "source": [
    "Создал переменную для подключения к БД и функцию для запросов"
   ]
  },
  {
   "attachments": {},
   "cell_type": "markdown",
   "metadata": {},
   "source": [
    "### Подготовка данных\n",
    "Исходные данные имели формат CSV, для изменения формат даты и создания базы данных были проделаны следующие манипуляции\n",
    "```python\n",
    "df = pd.read_csv('feed_actions.csv', sep=';')\n",
    "df['time'] = pd.to_datetime(df['time'],format='%Y-%m-%d %H:%M:%S')\n",
    "df.to_sql('feed_actions', con, index=False, if_exists='replace')\n",
    "```"
   ]
  },
  {
   "cell_type": "code",
   "execution_count": 3,
   "metadata": {},
   "outputs": [
    {
     "data": {
      "text/html": [
       "<div>\n",
       "<style scoped>\n",
       "    .dataframe tbody tr th:only-of-type {\n",
       "        vertical-align: middle;\n",
       "    }\n",
       "\n",
       "    .dataframe tbody tr th {\n",
       "        vertical-align: top;\n",
       "    }\n",
       "\n",
       "    .dataframe thead th {\n",
       "        text-align: right;\n",
       "    }\n",
       "</style>\n",
       "<table border=\"1\" class=\"dataframe\">\n",
       "  <thead>\n",
       "    <tr style=\"text-align: right;\">\n",
       "      <th></th>\n",
       "      <th>user_id</th>\n",
       "      <th>post_id</th>\n",
       "      <th>action</th>\n",
       "      <th>time</th>\n",
       "      <th>gender</th>\n",
       "      <th>age</th>\n",
       "      <th>country</th>\n",
       "      <th>city</th>\n",
       "      <th>os</th>\n",
       "      <th>source</th>\n",
       "      <th>exp_group</th>\n",
       "    </tr>\n",
       "  </thead>\n",
       "  <tbody>\n",
       "    <tr>\n",
       "      <th>0</th>\n",
       "      <td>115269</td>\n",
       "      <td>2145</td>\n",
       "      <td>like</td>\n",
       "      <td>2021-11-16 17:40:27</td>\n",
       "      <td>1</td>\n",
       "      <td>19</td>\n",
       "      <td>Belarus</td>\n",
       "      <td>Vysokaye</td>\n",
       "      <td>Android</td>\n",
       "      <td>organic</td>\n",
       "      <td>4</td>\n",
       "    </tr>\n",
       "    <tr>\n",
       "      <th>1</th>\n",
       "      <td>122097</td>\n",
       "      <td>1854</td>\n",
       "      <td>view</td>\n",
       "      <td>2021-11-16 17:40:27</td>\n",
       "      <td>1</td>\n",
       "      <td>26</td>\n",
       "      <td>Russia</td>\n",
       "      <td>Nyazepetrovsk</td>\n",
       "      <td>Android</td>\n",
       "      <td>organic</td>\n",
       "      <td>4</td>\n",
       "    </tr>\n",
       "    <tr>\n",
       "      <th>2</th>\n",
       "      <td>132354</td>\n",
       "      <td>2119</td>\n",
       "      <td>view</td>\n",
       "      <td>2021-11-16 17:40:27</td>\n",
       "      <td>0</td>\n",
       "      <td>19</td>\n",
       "      <td>Russia</td>\n",
       "      <td>Ulan-Ude</td>\n",
       "      <td>Android</td>\n",
       "      <td>organic</td>\n",
       "      <td>1</td>\n",
       "    </tr>\n",
       "    <tr>\n",
       "      <th>3</th>\n",
       "      <td>134989</td>\n",
       "      <td>2024</td>\n",
       "      <td>view</td>\n",
       "      <td>2021-11-16 17:40:27</td>\n",
       "      <td>0</td>\n",
       "      <td>19</td>\n",
       "      <td>Russia</td>\n",
       "      <td>Novosibirsk</td>\n",
       "      <td>Android</td>\n",
       "      <td>organic</td>\n",
       "      <td>4</td>\n",
       "    </tr>\n",
       "    <tr>\n",
       "      <th>4</th>\n",
       "      <td>135083</td>\n",
       "      <td>2110</td>\n",
       "      <td>view</td>\n",
       "      <td>2021-11-16 17:40:27</td>\n",
       "      <td>0</td>\n",
       "      <td>17</td>\n",
       "      <td>Russia</td>\n",
       "      <td>Kostroma</td>\n",
       "      <td>iOS</td>\n",
       "      <td>organic</td>\n",
       "      <td>1</td>\n",
       "    </tr>\n",
       "  </tbody>\n",
       "</table>\n",
       "</div>"
      ],
      "text/plain": [
       "   user_id  post_id action                 time  gender  age  country  \\\n",
       "0   115269     2145   like  2021-11-16 17:40:27       1   19  Belarus   \n",
       "1   122097     1854   view  2021-11-16 17:40:27       1   26   Russia   \n",
       "2   132354     2119   view  2021-11-16 17:40:27       0   19   Russia   \n",
       "3   134989     2024   view  2021-11-16 17:40:27       0   19   Russia   \n",
       "4   135083     2110   view  2021-11-16 17:40:27       0   17   Russia   \n",
       "\n",
       "            city       os   source  exp_group  \n",
       "0       Vysokaye  Android  organic          4  \n",
       "1  Nyazepetrovsk  Android  organic          4  \n",
       "2       Ulan-Ude  Android  organic          1  \n",
       "3    Novosibirsk  Android  organic          4  \n",
       "4       Kostroma      iOS  organic          1  "
      ]
     },
     "execution_count": 3,
     "metadata": {},
     "output_type": "execute_result"
    }
   ],
   "source": [
    "sql = '''\n",
    "SELECT * \n",
    "FROM feed_actions\n",
    "LIMIT 5;\n",
    "'''\n",
    "\n",
    "query(sql)"
   ]
  },
  {
   "attachments": {},
   "cell_type": "markdown",
   "metadata": {},
   "source": [
    "## Разбиение на группы\n",
    "\n",
    "- Разбиение должно быть случайныи\n",
    "- Группа пользователя не меняется в ходе эксперимента\n",
    "- Разбиение должно быть в точности повторимо (детерменированность)\n",
    "\n",
    "Использую **хеширование с солью**\n",
    "\n",
    "Для этого создам функцию для хеширования и разбиения на 5 групп"
   ]
  },
  {
   "cell_type": "code",
   "execution_count": 4,
   "metadata": {},
   "outputs": [],
   "source": [
    "def ab_split(id, salt='exp_mess_1', n_groups=5):\n",
    "    test_id = str(id) + '-' + str(salt)\n",
    "    test_id_digest = hashlib.md5(test_id.encode('ascii')).hexdigest()\n",
    "    test_id_final = int(test_id_digest, 16)\n",
    "    return test_id_final % n_groups"
   ]
  },
  {
   "attachments": {},
   "cell_type": "markdown",
   "metadata": {},
   "source": [
    "Посмотрю общее количество уникальных пользователей за период проведения АБ-теста"
   ]
  },
  {
   "cell_type": "code",
   "execution_count": 5,
   "metadata": {},
   "outputs": [
    {
     "data": {
      "text/html": [
       "<div>\n",
       "<style scoped>\n",
       "    .dataframe tbody tr th:only-of-type {\n",
       "        vertical-align: middle;\n",
       "    }\n",
       "\n",
       "    .dataframe tbody tr th {\n",
       "        vertical-align: top;\n",
       "    }\n",
       "\n",
       "    .dataframe thead th {\n",
       "        text-align: right;\n",
       "    }\n",
       "</style>\n",
       "<table border=\"1\" class=\"dataframe\">\n",
       "  <thead>\n",
       "    <tr style=\"text-align: right;\">\n",
       "      <th></th>\n",
       "      <th>count</th>\n",
       "    </tr>\n",
       "  </thead>\n",
       "  <tbody>\n",
       "    <tr>\n",
       "      <th>0</th>\n",
       "      <td>11435</td>\n",
       "    </tr>\n",
       "  </tbody>\n",
       "</table>\n",
       "</div>"
      ],
      "text/plain": [
       "   count\n",
       "0  11435"
      ]
     },
     "execution_count": 5,
     "metadata": {},
     "output_type": "execute_result"
    }
   ],
   "source": [
    "sql = '''\n",
    "SELECT COUNT(DISTINCT user_id) AS count\n",
    "FROM feed_actions\n",
    "WHERE time BETWEEN '2021-11-16' AND '2021-11-18';\n",
    "'''\n",
    "\n",
    "query(sql)"
   ]
  },
  {
   "attachments": {},
   "cell_type": "markdown",
   "metadata": {},
   "source": [
    "**11435 уникальных**\n",
    "\n",
    "С помощью функции разобью на 5 групп по хешу и сохраню в датафрейм"
   ]
  },
  {
   "cell_type": "code",
   "execution_count": 6,
   "metadata": {},
   "outputs": [],
   "source": [
    "sql = '''\n",
    "SELECT DISTINCT user_id\n",
    "FROM feed_actions\n",
    "WHERE time BETWEEN '2021-11-16' AND '2021-11-18';\n",
    "'''\n",
    "\n",
    "user_df = query(sql)\n",
    "\n",
    "user_df['hash_group'] = user_df['user_id'].apply(ab_split)"
   ]
  },
  {
   "attachments": {},
   "cell_type": "markdown",
   "metadata": {},
   "source": [
    "Проверю количество пользователей в группах после хеширования"
   ]
  },
  {
   "cell_type": "code",
   "execution_count": 7,
   "metadata": {},
   "outputs": [
    {
     "data": {
      "text/html": [
       "<div>\n",
       "<style scoped>\n",
       "    .dataframe tbody tr th:only-of-type {\n",
       "        vertical-align: middle;\n",
       "    }\n",
       "\n",
       "    .dataframe tbody tr th {\n",
       "        vertical-align: top;\n",
       "    }\n",
       "\n",
       "    .dataframe thead th {\n",
       "        text-align: right;\n",
       "    }\n",
       "</style>\n",
       "<table border=\"1\" class=\"dataframe\">\n",
       "  <thead>\n",
       "    <tr style=\"text-align: right;\">\n",
       "      <th></th>\n",
       "      <th>user_id</th>\n",
       "    </tr>\n",
       "    <tr>\n",
       "      <th>hash_group</th>\n",
       "      <th></th>\n",
       "    </tr>\n",
       "  </thead>\n",
       "  <tbody>\n",
       "    <tr>\n",
       "      <th>0</th>\n",
       "      <td>2303</td>\n",
       "    </tr>\n",
       "    <tr>\n",
       "      <th>1</th>\n",
       "      <td>2289</td>\n",
       "    </tr>\n",
       "    <tr>\n",
       "      <th>2</th>\n",
       "      <td>2378</td>\n",
       "    </tr>\n",
       "    <tr>\n",
       "      <th>3</th>\n",
       "      <td>2284</td>\n",
       "    </tr>\n",
       "    <tr>\n",
       "      <th>4</th>\n",
       "      <td>2181</td>\n",
       "    </tr>\n",
       "  </tbody>\n",
       "</table>\n",
       "</div>"
      ],
      "text/plain": [
       "            user_id\n",
       "hash_group         \n",
       "0              2303\n",
       "1              2289\n",
       "2              2378\n",
       "3              2284\n",
       "4              2181"
      ]
     },
     "execution_count": 7,
     "metadata": {},
     "output_type": "execute_result"
    }
   ],
   "source": [
    "user_df.groupby('hash_group').count()"
   ]
  },
  {
   "attachments": {},
   "cell_type": "markdown",
   "metadata": {},
   "source": [
    "Соизмеримое количество пользователей в группах"
   ]
  },
  {
   "attachments": {},
   "cell_type": "markdown",
   "metadata": {},
   "source": [
    "## Проверка корректности разбиения АА-тестом"
   ]
  },
  {
   "attachments": {},
   "cell_type": "markdown",
   "metadata": {},
   "source": [
    "Выведу группу, id, кол-во лайков, кол-во просмотров пользователей 0 и 1 группы за период проведения АА-теста, сгруппированные по группе и id.\n",
    "\n",
    "Сохраню в датафрейм"
   ]
  },
  {
   "cell_type": "code",
   "execution_count": 8,
   "metadata": {},
   "outputs": [],
   "source": [
    "sql = '''\n",
    "SELECT exp_group,\n",
    "    user_id,\n",
    "    SUM(action = 'like') AS likes,\n",
    "    SUM(action = 'view') AS views\n",
    "FROM feed_actions\n",
    "WHERE time BETWEEN '2021-11-16' AND '2021-11-18'\n",
    "    AND exp_group IN (0, 1)\n",
    "GROUP BY exp_group, user_id;\n",
    "'''\n",
    "\n",
    "df = query(sql)"
   ]
  },
  {
   "attachments": {},
   "cell_type": "markdown",
   "metadata": {},
   "source": [
    "Расчитаю и добавлю CTR из просмотров в лайки"
   ]
  },
  {
   "cell_type": "code",
   "execution_count": 9,
   "metadata": {},
   "outputs": [],
   "source": [
    "df['ctr'] = df['likes']/df['views']"
   ]
  },
  {
   "attachments": {},
   "cell_type": "markdown",
   "metadata": {},
   "source": [
    "Сравню количество пользователей в группах"
   ]
  },
  {
   "cell_type": "code",
   "execution_count": 10,
   "metadata": {},
   "outputs": [
    {
     "data": {
      "text/html": [
       "<div>\n",
       "<style scoped>\n",
       "    .dataframe tbody tr th:only-of-type {\n",
       "        vertical-align: middle;\n",
       "    }\n",
       "\n",
       "    .dataframe tbody tr th {\n",
       "        vertical-align: top;\n",
       "    }\n",
       "\n",
       "    .dataframe thead th {\n",
       "        text-align: right;\n",
       "    }\n",
       "</style>\n",
       "<table border=\"1\" class=\"dataframe\">\n",
       "  <thead>\n",
       "    <tr style=\"text-align: right;\">\n",
       "      <th></th>\n",
       "      <th>user_id</th>\n",
       "      <th>likes</th>\n",
       "      <th>views</th>\n",
       "      <th>ctr</th>\n",
       "    </tr>\n",
       "    <tr>\n",
       "      <th>exp_group</th>\n",
       "      <th></th>\n",
       "      <th></th>\n",
       "      <th></th>\n",
       "      <th></th>\n",
       "    </tr>\n",
       "  </thead>\n",
       "  <tbody>\n",
       "    <tr>\n",
       "      <th>0</th>\n",
       "      <td>2319</td>\n",
       "      <td>2319</td>\n",
       "      <td>2319</td>\n",
       "      <td>2319</td>\n",
       "    </tr>\n",
       "    <tr>\n",
       "      <th>1</th>\n",
       "      <td>2294</td>\n",
       "      <td>2294</td>\n",
       "      <td>2294</td>\n",
       "      <td>2294</td>\n",
       "    </tr>\n",
       "  </tbody>\n",
       "</table>\n",
       "</div>"
      ],
      "text/plain": [
       "           user_id  likes  views   ctr\n",
       "exp_group                             \n",
       "0             2319   2319   2319  2319\n",
       "1             2294   2294   2294  2294"
      ]
     },
     "execution_count": 10,
     "metadata": {},
     "output_type": "execute_result"
    }
   ],
   "source": [
    "df.groupby('exp_group').count()"
   ]
  },
  {
   "attachments": {},
   "cell_type": "markdown",
   "metadata": {},
   "source": [
    "Соизмеримое количество\n",
    "\n",
    "Построю график распределения **CTR** по группам"
   ]
  },
  {
   "cell_type": "code",
   "execution_count": 11,
   "metadata": {},
   "outputs": [
    {
     "data": {
      "image/png": "[encoded data removed]",
      "text/plain": [
       "<Figure size 864x648 with 1 Axes>"
      ]
     },
     "metadata": {},
     "output_type": "display_data"
    }
   ],
   "source": [
    "sns.set(rc={'figure.figsize':(12, 9)})\n",
    "\n",
    "groups = sns.histplot(data = df,\n",
    "                    x = 'ctr',\n",
    "                    hue = 'exp_group',\n",
    "                    palette = ['r', 'b'],\n",
    "                    alpha = 0.5,\n",
    "                    kde=False,\n",
    "                    bins=100)"
   ]
  },
  {
   "attachments": {},
   "cell_type": "markdown",
   "metadata": {},
   "source": [
    "Визуально группы имеют схожее распределение"
   ]
  },
  {
   "attachments": {},
   "cell_type": "markdown",
   "metadata": {},
   "source": [
    "### Окончательно проверю разбиение на группы с помощью **Т-критерия Стьюдента**"
   ]
  },
  {
   "cell_type": "code",
   "execution_count": 12,
   "metadata": {},
   "outputs": [
    {
     "data": {
      "text/plain": [
       "Ttest_indResult(statistic=1.2312678234437102, pvalue=0.21828551021385284)"
      ]
     },
     "execution_count": 12,
     "metadata": {},
     "output_type": "execute_result"
    }
   ],
   "source": [
    "stats.ttest_ind(df[df['exp_group']==0].ctr,\n",
    "                df[df['exp_group']==1].ctr,\n",
    "                equal_var=False)"
   ]
  },
  {
   "attachments": {},
   "cell_type": "markdown",
   "metadata": {},
   "source": [
    "**P-value = 0.22, значит отличия в группах не считаются значимыми**"
   ]
  },
  {
   "attachments": {},
   "cell_type": "markdown",
   "metadata": {},
   "source": [
    "## АB-тесты\n",
    "\n",
    "1. **exp_group = 1 - Все по-старому. exp_group = 2 - Рекомендации постов, похожих на лайкнутые**\n",
    "2. **exp_group = 0 – Все по-старому. exp_group = 3 - Рекомендации постов, которые лайкали похожие люди**"
   ]
  },
  {
   "attachments": {},
   "cell_type": "markdown",
   "metadata": {},
   "source": [
    "### Выгружу данные, для оценки **AB-теста №1** в датафрейм"
   ]
  },
  {
   "cell_type": "code",
   "execution_count": 13,
   "metadata": {},
   "outputs": [],
   "source": [
    "sql = '''\n",
    "SELECT exp_group,\n",
    "    user_id,\n",
    "    SUM(action = 'like') AS likes,\n",
    "    SUM(action = 'view') AS views\n",
    "FROM feed_actions\n",
    "WHERE time BETWEEN '2021-11-16' AND '2021-11-18'\n",
    "    AND exp_group IN (1, 2)\n",
    "GROUP BY exp_group, user_id;\n",
    "'''\n",
    "\n",
    "df = query(sql)\n",
    "\n",
    "df['ctr'] = df['likes']/df['views']"
   ]
  },
  {
   "attachments": {},
   "cell_type": "markdown",
   "metadata": {},
   "source": [
    "Сравню количество пользователей в группах"
   ]
  },
  {
   "cell_type": "code",
   "execution_count": 14,
   "metadata": {},
   "outputs": [
    {
     "data": {
      "text/html": [
       "<div>\n",
       "<style scoped>\n",
       "    .dataframe tbody tr th:only-of-type {\n",
       "        vertical-align: middle;\n",
       "    }\n",
       "\n",
       "    .dataframe tbody tr th {\n",
       "        vertical-align: top;\n",
       "    }\n",
       "\n",
       "    .dataframe thead th {\n",
       "        text-align: right;\n",
       "    }\n",
       "</style>\n",
       "<table border=\"1\" class=\"dataframe\">\n",
       "  <thead>\n",
       "    <tr style=\"text-align: right;\">\n",
       "      <th></th>\n",
       "      <th>user_id</th>\n",
       "      <th>likes</th>\n",
       "      <th>views</th>\n",
       "      <th>ctr</th>\n",
       "    </tr>\n",
       "    <tr>\n",
       "      <th>exp_group</th>\n",
       "      <th></th>\n",
       "      <th></th>\n",
       "      <th></th>\n",
       "      <th></th>\n",
       "    </tr>\n",
       "  </thead>\n",
       "  <tbody>\n",
       "    <tr>\n",
       "      <th>1</th>\n",
       "      <td>2294</td>\n",
       "      <td>2294</td>\n",
       "      <td>2294</td>\n",
       "      <td>2294</td>\n",
       "    </tr>\n",
       "    <tr>\n",
       "      <th>2</th>\n",
       "      <td>2242</td>\n",
       "      <td>2242</td>\n",
       "      <td>2242</td>\n",
       "      <td>2242</td>\n",
       "    </tr>\n",
       "  </tbody>\n",
       "</table>\n",
       "</div>"
      ],
      "text/plain": [
       "           user_id  likes  views   ctr\n",
       "exp_group                             \n",
       "1             2294   2294   2294  2294\n",
       "2             2242   2242   2242  2242"
      ]
     },
     "execution_count": 14,
     "metadata": {},
     "output_type": "execute_result"
    }
   ],
   "source": [
    "df.groupby('exp_group').count()"
   ]
  },
  {
   "attachments": {},
   "cell_type": "markdown",
   "metadata": {},
   "source": [
    "Визуально рассмотрю распределения CTR по группам"
   ]
  },
  {
   "cell_type": "code",
   "execution_count": 15,
   "metadata": {},
   "outputs": [
    {
     "data": {
      "image/png": "[encoded data removed]",
      "text/plain": [
       "<Figure size 864x648 with 1 Axes>"
      ]
     },
     "metadata": {},
     "output_type": "display_data"
    }
   ],
   "source": [
    "sns.set(rc={'figure.figsize':(12, 9)})\n",
    "\n",
    "groups = sns.histplot(data = df,\n",
    "                    x = 'ctr',\n",
    "                    hue = 'exp_group',\n",
    "                    palette = ['r', 'b'],\n",
    "                    alpha = 0.5,\n",
    "                    kde = False,\n",
    "                    bins = 100)"
   ]
  },
  {
   "attachments": {},
   "cell_type": "markdown",
   "metadata": {},
   "source": [
    "Визуально в группах видны отличия, проверю их значимость с помощью **теста Манна-Уитни**"
   ]
  },
  {
   "cell_type": "code",
   "execution_count": 16,
   "metadata": {},
   "outputs": [
    {
     "data": {
      "text/plain": [
       "MannwhitneyuResult(statistic=2885236.5, pvalue=1.1103513761581954e-12)"
      ]
     },
     "execution_count": 16,
     "metadata": {},
     "output_type": "execute_result"
    }
   ],
   "source": [
    "stats.mannwhitneyu(df[df['exp_group'] == 1].ctr,\n",
    "                df[df['exp_group'] == 2].ctr,\n",
    "                alternative = 'two-sided')"
   ]
  },
  {
   "attachments": {},
   "cell_type": "markdown",
   "metadata": {},
   "source": [
    "**P-value < 0.05, значит отличия в группах считаются значимыми**"
   ]
  },
  {
   "attachments": {},
   "cell_type": "markdown",
   "metadata": {},
   "source": [
    "Проведу **Бутстреп** тест для наглядности\n",
    "\n",
    "Функция:\n",
    "- Берет из 1 группы выборку\n",
    "- Из распределения Пуфасона генерирует сколько раз пользователь попал в выборку (вес)\n",
    "- Считает глобальный CTR с учетом веса\n",
    "- Производит те же вычисления для группы 2\n",
    "- Считает и сохраняет разницу глобальных CTR\n",
    "- Повторяет процедуру 2000 раз\n",
    "\n",
    "**Получаю распределение разницы в глобальном CTR**"
   ]
  },
  {
   "cell_type": "code",
   "execution_count": 17,
   "metadata": {},
   "outputs": [],
   "source": [
    "def bootstrap(likes1, views1, likes2, views2, n_butstrap=2000):\n",
    "    poisson_bootstraps1 = stats.poisson(1).rvs((2000, len(likes1))).astype(np.int64)\n",
    "    poisson_bootstraps2 = stats.poisson(1).rvs((2000, len(likes2))).astype(np.int64)\n",
    "\n",
    "    global_ctr1 = (poisson_bootstraps1 * likes1).sum(axis=1)/(poisson_bootstraps1 * views1).sum(axis=1)\n",
    "    global_ctr2 = (poisson_bootstraps2 * likes2).sum(axis=1)/(poisson_bootstraps2 * views2).sum(axis=1)\n",
    "\n",
    "    return global_ctr1, global_ctr2"
   ]
  },
  {
   "attachments": {},
   "cell_type": "markdown",
   "metadata": {},
   "source": [
    "Применю функцию  и визуализирую"
   ]
  },
  {
   "cell_type": "code",
   "execution_count": 18,
   "metadata": {},
   "outputs": [
    {
     "data": {
      "text/plain": [
       "<AxesSubplot:ylabel='Count'>"
      ]
     },
     "execution_count": 18,
     "metadata": {},
     "output_type": "execute_result"
    },
    {
     "data": {
      "image/png": "[encoded data removed]",
      "text/plain": [
       "<Figure size 864x648 with 1 Axes>"
      ]
     },
     "metadata": {},
     "output_type": "display_data"
    }
   ],
   "source": [
    "likes1 = df[df['exp_group'] == 1].likes.to_numpy()\n",
    "views1 = df[df['exp_group'] == 1].views.to_numpy()\n",
    "likes2 = df[df['exp_group'] == 2].likes.to_numpy()\n",
    "views2 = df[df['exp_group'] == 2].views.to_numpy()\n",
    "\n",
    "ctr1, ctr2 = bootstrap(likes1, views1, likes2, views2)\n",
    "\n",
    "sns.histplot(ctr1, color=['g'])\n",
    "sns.histplot(ctr2, color=['r'])"
   ]
  },
  {
   "attachments": {},
   "cell_type": "markdown",
   "metadata": {},
   "source": [
    "Рассмотрю распределение разницы между глобальными CTR тестовой и контрольной групп"
   ]
  },
  {
   "cell_type": "code",
   "execution_count": 19,
   "metadata": {},
   "outputs": [
    {
     "data": {
      "text/plain": [
       "<AxesSubplot:ylabel='Count'>"
      ]
     },
     "execution_count": 19,
     "metadata": {},
     "output_type": "execute_result"
    },
    {
     "data": {
      "image/png": "[encoded data removed]",
      "text/plain": [
       "<Figure size 864x648 with 1 Axes>"
      ]
     },
     "metadata": {},
     "output_type": "display_data"
    }
   ],
   "source": [
    "sns.histplot(ctr2 - ctr1, color=['b'])"
   ]
  },
  {
   "attachments": {},
   "cell_type": "markdown",
   "metadata": {},
   "source": [
    "Распределение разности глобальных CTR строго меньше 0, значит разница между группами отрицательная\n",
    "\n",
    "**Алгоритм рекомендации постов, похожих на лайкнутые негативно повлиял на CTR**"
   ]
  },
  {
   "attachments": {},
   "cell_type": "markdown",
   "metadata": {},
   "source": [
    "### Выгружу данные, для оценки **AB-теста №2** в датафрейм"
   ]
  },
  {
   "cell_type": "code",
   "execution_count": 20,
   "metadata": {},
   "outputs": [],
   "source": [
    "sql = '''\n",
    "SELECT exp_group,\n",
    "    user_id,\n",
    "    SUM(action = 'like') AS likes,\n",
    "    SUM(action = 'view') AS views\n",
    "FROM feed_actions\n",
    "WHERE time BETWEEN '2021-11-16' AND '2021-11-18'\n",
    "    AND exp_group IN (0, 3)\n",
    "GROUP BY exp_group, user_id;\n",
    "'''\n",
    "\n",
    "df = query(sql)\n",
    "\n",
    "df['ctr'] = df['likes']/df['views']"
   ]
  },
  {
   "attachments": {},
   "cell_type": "markdown",
   "metadata": {},
   "source": [
    "Сравню количество пользователей в группах"
   ]
  },
  {
   "cell_type": "code",
   "execution_count": 21,
   "metadata": {},
   "outputs": [
    {
     "data": {
      "text/html": [
       "<div>\n",
       "<style scoped>\n",
       "    .dataframe tbody tr th:only-of-type {\n",
       "        vertical-align: middle;\n",
       "    }\n",
       "\n",
       "    .dataframe tbody tr th {\n",
       "        vertical-align: top;\n",
       "    }\n",
       "\n",
       "    .dataframe thead th {\n",
       "        text-align: right;\n",
       "    }\n",
       "</style>\n",
       "<table border=\"1\" class=\"dataframe\">\n",
       "  <thead>\n",
       "    <tr style=\"text-align: right;\">\n",
       "      <th></th>\n",
       "      <th>user_id</th>\n",
       "      <th>likes</th>\n",
       "      <th>views</th>\n",
       "      <th>ctr</th>\n",
       "    </tr>\n",
       "    <tr>\n",
       "      <th>exp_group</th>\n",
       "      <th></th>\n",
       "      <th></th>\n",
       "      <th></th>\n",
       "      <th></th>\n",
       "    </tr>\n",
       "  </thead>\n",
       "  <tbody>\n",
       "    <tr>\n",
       "      <th>0</th>\n",
       "      <td>2319</td>\n",
       "      <td>2319</td>\n",
       "      <td>2319</td>\n",
       "      <td>2319</td>\n",
       "    </tr>\n",
       "    <tr>\n",
       "      <th>3</th>\n",
       "      <td>2325</td>\n",
       "      <td>2325</td>\n",
       "      <td>2325</td>\n",
       "      <td>2325</td>\n",
       "    </tr>\n",
       "  </tbody>\n",
       "</table>\n",
       "</div>"
      ],
      "text/plain": [
       "           user_id  likes  views   ctr\n",
       "exp_group                             \n",
       "0             2319   2319   2319  2319\n",
       "3             2325   2325   2325  2325"
      ]
     },
     "execution_count": 21,
     "metadata": {},
     "output_type": "execute_result"
    }
   ],
   "source": [
    "df.groupby('exp_group').count()"
   ]
  },
  {
   "attachments": {},
   "cell_type": "markdown",
   "metadata": {},
   "source": [
    "Визуально рассмотрю распределения CTR по группам"
   ]
  },
  {
   "cell_type": "code",
   "execution_count": 22,
   "metadata": {},
   "outputs": [
    {
     "data": {
      "image/png": "[encoded data removed]",
      "text/plain": [
       "<Figure size 864x648 with 1 Axes>"
      ]
     },
     "metadata": {},
     "output_type": "display_data"
    }
   ],
   "source": [
    "sns.set(rc={'figure.figsize':(12, 9)})\n",
    "\n",
    "groups = sns.histplot(data = df,\n",
    "                    x = 'ctr',\n",
    "                    hue = 'exp_group',\n",
    "                    palette = ['r', 'b'],\n",
    "                    alpha = 0.5,\n",
    "                    kde = False,\n",
    "                    bins = 100)"
   ]
  },
  {
   "attachments": {},
   "cell_type": "markdown",
   "metadata": {},
   "source": [
    "Визуально оценить оличия в группах сложно. Проверю значимость отличий с помощью **теста Манна-Уитни**"
   ]
  },
  {
   "cell_type": "code",
   "execution_count": 23,
   "metadata": {},
   "outputs": [
    {
     "data": {
      "text/plain": [
       "MannwhitneyuResult(statistic=2455449.0, pvalue=1.41332532144525e-07)"
      ]
     },
     "execution_count": 23,
     "metadata": {},
     "output_type": "execute_result"
    }
   ],
   "source": [
    "stats.mannwhitneyu(df[df['exp_group'] == 0].ctr,\n",
    "                df[df['exp_group'] == 3].ctr,\n",
    "                alternative = 'two-sided')"
   ]
  },
  {
   "attachments": {},
   "cell_type": "markdown",
   "metadata": {},
   "source": [
    "**P-value < 0.05, значит отличия в группах считаются значимыми**"
   ]
  },
  {
   "attachments": {},
   "cell_type": "markdown",
   "metadata": {},
   "source": [
    "Применю функцию бутстрепа и визуализирую"
   ]
  },
  {
   "cell_type": "code",
   "execution_count": 24,
   "metadata": {},
   "outputs": [
    {
     "data": {
      "text/plain": [
       "<AxesSubplot:ylabel='Count'>"
      ]
     },
     "execution_count": 24,
     "metadata": {},
     "output_type": "execute_result"
    },
    {
     "data": {
      "image/png": "[encoded data removed]",
      "text/plain": [
       "<Figure size 864x648 with 1 Axes>"
      ]
     },
     "metadata": {},
     "output_type": "display_data"
    }
   ],
   "source": [
    "likes1 = df[df['exp_group'] == 0].likes.to_numpy()\n",
    "views1 = df[df['exp_group'] == 0].views.to_numpy()\n",
    "likes2 = df[df['exp_group'] == 3].likes.to_numpy()\n",
    "views2 = df[df['exp_group'] == 3].views.to_numpy()\n",
    "\n",
    "ctr1, ctr2 = bootstrap(likes1, views1, likes2, views2)\n",
    "\n",
    "sns.histplot(ctr1, color=['g'])\n",
    "sns.histplot(ctr2, color=['r'])"
   ]
  },
  {
   "attachments": {},
   "cell_type": "markdown",
   "metadata": {},
   "source": [
    "Рассмотрю распределение разницы между глобальными CTR тестовой и контрольной групп"
   ]
  },
  {
   "cell_type": "code",
   "execution_count": 25,
   "metadata": {},
   "outputs": [
    {
     "data": {
      "text/plain": [
       "<AxesSubplot:ylabel='Count'>"
      ]
     },
     "execution_count": 25,
     "metadata": {},
     "output_type": "execute_result"
    },
    {
     "data": {
      "image/png": "[encoded data removed]",
      "text/plain": [
       "<Figure size 864x648 with 1 Axes>"
      ]
     },
     "metadata": {},
     "output_type": "display_data"
    }
   ],
   "source": [
    "sns.histplot(ctr2 - ctr1, color=['b'])"
   ]
  },
  {
   "attachments": {},
   "cell_type": "markdown",
   "metadata": {},
   "source": [
    "Распределение разности глобальных CTR строго больше 0, значит разница между группами положительная\n",
    "\n",
    "**Алгоритм рекомендации постов, которые лайкали похожие люди положительно повлиял на CTR**"
   ]
  },
  {
   "attachments": {},
   "cell_type": "markdown",
   "metadata": {},
   "source": [
    "## Выводы\n",
    "\n",
    "- **Алгоритм рекомендации постов, похожих на лайкнутые негативно повлиял на CTR. Алгоритм не стоит выводить в продакшн**\n",
    "- **Алгоритм рекомендации постов, которые лайкали похожие люди положительно повлиял на CTR. Алгоритм можно выводить в продакшн**"
   ]
  }
 ],
 "metadata": {
  "kernelspec": {
   "display_name": "base",
   "language": "python",
   "name": "python3"
  },
  "language_info": {
   "codemirror_mode": {
    "name": "ipython",
    "version": 3
   },
   "file_extension": ".py",
   "mimetype": "text/x-python",
   "name": "python",
   "nbconvert_exporter": "python",
   "pygments_lexer": "ipython3",
   "version": "3.9.7"
  },
  "orig_nbformat": 4,
  "vscode": {
   "interpreter": {
    "hash": "f860bda7b0057455adb2acb421a5357a98cf7880ef24a45591ce44d615b1622b"
   }
  }
 },
 "nbformat": 4,
 "nbformat_minor": 2
}
